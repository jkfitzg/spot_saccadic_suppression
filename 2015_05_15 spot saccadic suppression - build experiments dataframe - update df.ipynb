{
 "metadata": {
  "name": "",
  "signature": "sha256:cbd3bc7afc48daf25d663fdcd5a7165a0eb0af11e3c76d77eaa8af950ae3a042"
 },
 "nbformat": 3,
 "nbformat_minor": 0,
 "worksheets": [
  {
   "cells": [
    {
     "cell_type": "code",
     "collapsed": false,
     "input": [
      "# For manipulating the experiments_df, \n",
      "# a pandas (http://pandas.pydata.org/) dataframe \n",
      "# that stores the experiment filenames, fly genotype, protocol details\n",
      "#\n",
      "# this code loads the current dataframe,\n",
      "# add new experiments, and saves it\n",
      "#"
     ],
     "language": "python",
     "metadata": {},
     "outputs": [],
     "prompt_number": 1
    },
    {
     "cell_type": "code",
     "collapsed": false,
     "input": [
      "%matplotlib qt"
     ],
     "language": "python",
     "metadata": {},
     "outputs": [],
     "prompt_number": 2
    },
    {
     "cell_type": "code",
     "collapsed": false,
     "input": [
      "cd /Users/jamie/GitHub/spot_saccadic_suppression"
     ],
     "language": "python",
     "metadata": {},
     "outputs": [
      {
       "output_type": "stream",
       "stream": "stdout",
       "text": [
        "/Users/jamie/GitHub/spot_saccadic_suppression\n"
       ]
      }
     ],
     "prompt_number": 3
    },
    {
     "cell_type": "code",
     "collapsed": false,
     "input": [
      "import pandas as pd"
     ],
     "language": "python",
     "metadata": {},
     "outputs": [],
     "prompt_number": 4
    },
    {
     "cell_type": "code",
     "collapsed": false,
     "input": [
      "path_name = '/Users/jamie/Dropbox/maimon lab - behavioral data/'"
     ],
     "language": "python",
     "metadata": {},
     "outputs": [],
     "prompt_number": 5
    },
    {
     "cell_type": "code",
     "collapsed": false,
     "input": [
      "experiments_df = pd.read_pickle('saccadic_suppression_flies.save')"
     ],
     "language": "python",
     "metadata": {},
     "outputs": [],
     "prompt_number": 6
    },
    {
     "cell_type": "code",
     "collapsed": false,
     "input": [
      "experiments_df.tail()"
     ],
     "language": "python",
     "metadata": {},
     "outputs": [
      {
       "html": [
        "<div style=\"max-height:1000px;max-width:1500px;overflow:auto;\">\n",
        "<table border=\"1\" class=\"dataframe\">\n",
        "  <thead>\n",
        "    <tr style=\"text-align: right;\">\n",
        "      <th></th>\n",
        "      <th>filename</th>\n",
        "      <th>genotype</th>\n",
        "      <th>two s static spot</th>\n",
        "      <th>strokelitude</th>\n",
        "    </tr>\n",
        "  </thead>\n",
        "  <tbody>\n",
        "    <tr>\n",
        "      <th>95</th>\n",
        "      <td> 2015_05_12_0014</td>\n",
        "      <td> c290 x 2xegfp, NP background</td>\n",
        "      <td> False</td>\n",
        "      <td> False</td>\n",
        "    </tr>\n",
        "    <tr>\n",
        "      <th>96</th>\n",
        "      <td> 2015_05_12_0015</td>\n",
        "      <td> c290 x 2xegfp, NP background</td>\n",
        "      <td> False</td>\n",
        "      <td> False</td>\n",
        "    </tr>\n",
        "    <tr>\n",
        "      <th>97</th>\n",
        "      <td> 2015_05_12_0016</td>\n",
        "      <td> c290 x 2xegfp, NP background</td>\n",
        "      <td> False</td>\n",
        "      <td> False</td>\n",
        "    </tr>\n",
        "    <tr>\n",
        "      <th>98</th>\n",
        "      <td> 2015_05_12_0017</td>\n",
        "      <td> c290 x 2xegfp, NP background</td>\n",
        "      <td> False</td>\n",
        "      <td> False</td>\n",
        "    </tr>\n",
        "    <tr>\n",
        "      <th>99</th>\n",
        "      <td> 2015_05_12_0018</td>\n",
        "      <td> c290 x 2xegfp, NP background</td>\n",
        "      <td> False</td>\n",
        "      <td> False</td>\n",
        "    </tr>\n",
        "  </tbody>\n",
        "</table>\n",
        "</div>"
       ],
       "metadata": {},
       "output_type": "pyout",
       "prompt_number": 7,
       "text": [
        "           filename                      genotype two s static spot  \\\n",
        "95  2015_05_12_0014  c290 x 2xegfp, NP background             False   \n",
        "96  2015_05_12_0015  c290 x 2xegfp, NP background             False   \n",
        "97  2015_05_12_0016  c290 x 2xegfp, NP background             False   \n",
        "98  2015_05_12_0017  c290 x 2xegfp, NP background             False   \n",
        "99  2015_05_12_0018  c290 x 2xegfp, NP background             False   \n",
        "\n",
        "   strokelitude  \n",
        "95        False  \n",
        "96        False  \n",
        "97        False  \n",
        "98        False  \n",
        "99        False  "
       ]
      }
     ],
     "prompt_number": 7
    },
    {
     "cell_type": "code",
     "collapsed": false,
     "input": [
      "# index 59 is undersampled. drop\n",
      "# experiments_df.drop(59,inplace=True) #already droppped"
     ],
     "language": "python",
     "metadata": {},
     "outputs": [],
     "prompt_number": 9
    },
    {
     "cell_type": "code",
     "collapsed": false,
     "input": [
      "experiments_df.ix[58:61,:]"
     ],
     "language": "python",
     "metadata": {},
     "outputs": [
      {
       "html": [
        "<div style=\"max-height:1000px;max-width:1500px;overflow:auto;\">\n",
        "<table border=\"1\" class=\"dataframe\">\n",
        "  <thead>\n",
        "    <tr style=\"text-align: right;\">\n",
        "      <th></th>\n",
        "      <th>filename</th>\n",
        "      <th>genotype</th>\n",
        "      <th>two s static spot</th>\n",
        "      <th>strokelitude</th>\n",
        "    </tr>\n",
        "  </thead>\n",
        "  <tbody>\n",
        "    <tr>\n",
        "      <th>58</th>\n",
        "      <td> 2015_04_22_0012</td>\n",
        "      <td> c290 x 2xegfp</td>\n",
        "      <td> False</td>\n",
        "      <td> False</td>\n",
        "    </tr>\n",
        "    <tr>\n",
        "      <th>60</th>\n",
        "      <td> 2015_04_22_0014</td>\n",
        "      <td> c290 x 2xegfp</td>\n",
        "      <td> False</td>\n",
        "      <td> False</td>\n",
        "    </tr>\n",
        "    <tr>\n",
        "      <th>61</th>\n",
        "      <td> 2015_05_01_0000</td>\n",
        "      <td> c290 x 2xegfp</td>\n",
        "      <td> False</td>\n",
        "      <td>  True</td>\n",
        "    </tr>\n",
        "  </tbody>\n",
        "</table>\n",
        "</div>"
       ],
       "metadata": {},
       "output_type": "pyout",
       "prompt_number": 10,
       "text": [
        "           filename       genotype two s static spot strokelitude\n",
        "58  2015_04_22_0012  c290 x 2xegfp             False        False\n",
        "60  2015_04_22_0014  c290 x 2xegfp             False        False\n",
        "61  2015_05_01_0000  c290 x 2xegfp             False         True"
       ]
      }
     ],
     "prompt_number": 10
    },
    {
     "cell_type": "code",
     "collapsed": false,
     "input": [
      "# index 88 is undersampled. drop\n",
      "experiments_df.drop(88,inplace=True)"
     ],
     "language": "python",
     "metadata": {},
     "outputs": [],
     "prompt_number": 11
    },
    {
     "cell_type": "code",
     "collapsed": false,
     "input": [
      "# now save all experiments dataframe\n",
      "experiments_df.to_pickle('saccadic_suppression_flies.save')"
     ],
     "language": "python",
     "metadata": {},
     "outputs": [],
     "prompt_number": 12
    }
   ],
   "metadata": {}
  }
 ]
}