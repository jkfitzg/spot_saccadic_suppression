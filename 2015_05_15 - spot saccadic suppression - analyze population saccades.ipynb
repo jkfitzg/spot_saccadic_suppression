{
 "metadata": {
  "name": "",
  "signature": "sha256:bbe97e1da2f1841afc88344d12f5ae927757a19e9a8cd3a0a8779b3457b4fdf1"
 },
 "nbformat": 3,
 "nbformat_minor": 0,
 "worksheets": [
  {
   "cells": [
    {
     "cell_type": "code",
     "collapsed": false,
     "input": [
      "# Look at the population influence of body saccades\n",
      "# on the fly's spot behaviors. \n",
      "#\n",
      "# analyze this as a function of time of spontaneous saccade\n",
      "# start relative spot presentation x stimulus type  "
     ],
     "language": "python",
     "metadata": {},
     "outputs": [],
     "prompt_number": 1
    },
    {
     "cell_type": "code",
     "collapsed": false,
     "input": [
      "# Known problems \n",
      "# -- currently the trials before and after saccades may \n",
      "#    also contain saccades -> add some branching statements\n",
      "# -- I'm not excluding non-flight periods, although I \n",
      "#    didn't annotate saccades that occur around them. \n",
      "#    -> this should be fine\n",
      "# -- I'm not doing anything with my saccade grade\n",
      "#    this should be ok since even my low-grade saccades are decent\n",
      "#    but this is a good place to extend\n",
      "# -- I have extra functions from previous experiments. \n",
      "#    update or remove these"
     ],
     "language": "python",
     "metadata": {},
     "outputs": [],
     "prompt_number": 10
    },
    {
     "cell_type": "code",
     "collapsed": false,
     "input": [
      "%matplotlib qt"
     ],
     "language": "python",
     "metadata": {},
     "outputs": [],
     "prompt_number": 3
    },
    {
     "cell_type": "code",
     "collapsed": false,
     "input": [
      "%load_ext autoreload\n",
      "%autoreload 2\n",
      "from spot_saccadic_supression import *"
     ],
     "language": "python",
     "metadata": {},
     "outputs": [
      {
       "output_type": "stream",
       "stream": "stdout",
       "text": [
        "The autoreload extension is already loaded. To reload it, use:\n",
        "  %reload_ext autoreload\n"
       ]
      }
     ],
     "prompt_number": 16
    },
    {
     "cell_type": "code",
     "collapsed": false,
     "input": [
      "path_name = '/Users/jamie/Dropbox/maimon lab - behavioral data/'"
     ],
     "language": "python",
     "metadata": {},
     "outputs": [],
     "prompt_number": 6
    },
    {
     "cell_type": "code",
     "collapsed": false,
     "input": [
      "# load my saccades dictionary\n",
      "import pickle\n",
      "with open('saccades_dict.save','rb') as handle:\n",
      "   saccades_dict = pickle.load(handle)"
     ],
     "language": "python",
     "metadata": {},
     "outputs": [],
     "prompt_number": 19
    },
    {
     "cell_type": "code",
     "collapsed": false,
     "input": [
      "# get the filenames of flies with nice spont saccades\n",
      "saccade_dict_keys = saccades_dict.keys()"
     ],
     "language": "python",
     "metadata": {},
     "outputs": [],
     "prompt_number": 9
    },
    {
     "cell_type": "code",
     "collapsed": false,
     "input": [
      "# get the traces of all trials with saccades and the trials\n",
      "# of the same stimulus condition before and after them\n",
      "saccade_info, saccade_and_control_traces = get_saccade_and_control_traces(saccades_dict)"
     ],
     "language": "python",
     "metadata": {},
     "outputs": [
      {
       "output_type": "stream",
       "stream": "stdout",
       "text": [
        "n saccades = 279\n"
       ]
      }
     ],
     "prompt_number": 30
    },
    {
     "cell_type": "code",
     "collapsed": false,
     "input": [
      "plot_saccade_traces_pre_pos_y_offset(saccade_info, saccade_and_control_traces)"
     ],
     "language": "python",
     "metadata": {},
     "outputs": [],
     "prompt_number": 31
    },
    {
     "cell_type": "code",
     "collapsed": false,
     "input": [
      "# show saccades in different \n",
      "# intervals before the saccadic turns"
     ],
     "language": "python",
     "metadata": {},
     "outputs": [],
     "prompt_number": 23
    },
    {
     "cell_type": "code",
     "collapsed": false,
     "input": [
      "# add annotation for the pre, saccade, and post traces\n",
      "# for plot by stim, clean up additional axes\n",
      "# clean up, document my code"
     ],
     "language": "python",
     "metadata": {},
     "outputs": [],
     "prompt_number": 24
    },
    {
     "cell_type": "code",
     "collapsed": false,
     "input": [
      "plot_saccade_traces_pre_pos_y_offset_time_sorted(saccade_info, \n",
      "                                                 saccade_and_control_traces,\n",
      "                                                 -150,-50)"
     ],
     "language": "python",
     "metadata": {},
     "outputs": [],
     "prompt_number": 44
    },
    {
     "cell_type": "code",
     "collapsed": false,
     "input": [
      "plot_saccade_traces_pre_pos_y_offset_time_sorted(saccade_info, \n",
      "                                                 saccade_and_control_traces,\n",
      "                                                 -200,-100)"
     ],
     "language": "python",
     "metadata": {},
     "outputs": [],
     "prompt_number": 63
    },
    {
     "cell_type": "code",
     "collapsed": false,
     "input": [
      "plt.close('all')"
     ],
     "language": "python",
     "metadata": {},
     "outputs": [],
     "prompt_number": 82
    },
    {
     "cell_type": "code",
     "collapsed": false,
     "input": [
      "for saccade_pre in range(-100,-200,-100):\n",
      "    plot_saccade_traces_pre_pos_y_offset_time_sorted(saccade_info, \n",
      "                                                 saccade_and_control_traces,\n",
      "                                                 saccade_pre-100,saccade_pre,\n",
      "                                                 plot_by_stim=False)"
     ],
     "language": "python",
     "metadata": {},
     "outputs": [],
     "prompt_number": 83
    },
    {
     "cell_type": "code",
     "collapsed": false,
     "input": [
      "for saccade_pre in range(-50,-150,-100):\n",
      "    plot_saccade_traces_pre_pos_y_offset_time_sorted(saccade_info, \n",
      "                                                 saccade_and_control_traces,\n",
      "                                                 saccade_pre-100,saccade_pre,\n",
      "                                                 plot_by_stim=True)"
     ],
     "language": "python",
     "metadata": {},
     "outputs": [],
     "prompt_number": 84
    },
    {
     "cell_type": "code",
     "collapsed": false,
     "input": [
      "# now clean up code, formatting for collapsing by \n",
      "# position of the spot\n",
      "#\n",
      "# later allow branching by the saccade directions?\n",
      "# for offset saccades, sort by saccade start times."
     ],
     "language": "python",
     "metadata": {},
     "outputs": [],
     "prompt_number": 68
    },
    {
     "cell_type": "code",
     "collapsed": false,
     "input": [],
     "language": "python",
     "metadata": {},
     "outputs": []
    }
   ],
   "metadata": {}
  }
 ]
}