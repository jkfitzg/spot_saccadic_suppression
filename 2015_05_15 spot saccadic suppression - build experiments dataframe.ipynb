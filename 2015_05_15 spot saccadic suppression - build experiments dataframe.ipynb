{
 "metadata": {
  "name": "",
  "signature": "sha256:2401a8a11d3daea7766866d5678b385c8cb17ec61f146b245d57ccf4d5df7fdc"
 },
 "nbformat": 3,
 "nbformat_minor": 0,
 "worksheets": [
  {
   "cells": [
    {
     "cell_type": "code",
     "collapsed": false,
     "input": [
      "# For manipulating the experiments_df, \n",
      "# a pandas (http://pandas.pydata.org/) dataframe \n",
      "# that stores the experiment filenames, fly genotype, protocol details\n",
      "#\n",
      "# this code loads the current dataframe,\n",
      "# add new experiments, and saves it\n",
      "#"
     ],
     "language": "python",
     "metadata": {},
     "outputs": [],
     "prompt_number": 1
    },
    {
     "cell_type": "code",
     "collapsed": false,
     "input": [
      "%matplotlib qt"
     ],
     "language": "python",
     "metadata": {},
     "outputs": [],
     "prompt_number": 2
    },
    {
     "cell_type": "code",
     "collapsed": false,
     "input": [
      "cd /Users/jamie/GitHub/spot_saccadic_suppression"
     ],
     "language": "python",
     "metadata": {},
     "outputs": [
      {
       "output_type": "stream",
       "stream": "stdout",
       "text": [
        "/Users/jamie/GitHub/spot_saccadic_suppression\n"
       ]
      }
     ],
     "prompt_number": 3
    },
    {
     "cell_type": "code",
     "collapsed": false,
     "input": [
      "import pandas as pd"
     ],
     "language": "python",
     "metadata": {},
     "outputs": [],
     "prompt_number": 7
    },
    {
     "cell_type": "code",
     "collapsed": false,
     "input": [
      "path_name = '/Users/jamie/Dropbox/maimon lab - behavioral data/'"
     ],
     "language": "python",
     "metadata": {},
     "outputs": [],
     "prompt_number": 8
    },
    {
     "cell_type": "code",
     "collapsed": false,
     "input": [
      "experiments_df = pd.read_pickle('saccadic_suppression_flies.save')"
     ],
     "language": "python",
     "metadata": {},
     "outputs": [],
     "prompt_number": 11
    },
    {
     "cell_type": "code",
     "collapsed": false,
     "input": [
      "experiments_df.tail()"
     ],
     "language": "python",
     "metadata": {},
     "outputs": [
      {
       "html": [
        "<div style=\"max-height:1000px;max-width:1500px;overflow:auto;\">\n",
        "<table border=\"1\" class=\"dataframe\">\n",
        "  <thead>\n",
        "    <tr style=\"text-align: right;\">\n",
        "      <th></th>\n",
        "      <th>filename</th>\n",
        "      <th>2s static spot</th>\n",
        "      <th>genotype</th>\n",
        "    </tr>\n",
        "  </thead>\n",
        "  <tbody>\n",
        "    <tr>\n",
        "      <th>56</th>\n",
        "      <td> 2015_04_22_0010</td>\n",
        "      <td> False</td>\n",
        "      <td> c290 x 2xegfp</td>\n",
        "    </tr>\n",
        "    <tr>\n",
        "      <th>57</th>\n",
        "      <td> 2015_04_22_0011</td>\n",
        "      <td> False</td>\n",
        "      <td> c290 x 2xegfp</td>\n",
        "    </tr>\n",
        "    <tr>\n",
        "      <th>58</th>\n",
        "      <td> 2015_04_22_0012</td>\n",
        "      <td> False</td>\n",
        "      <td> c290 x 2xegfp</td>\n",
        "    </tr>\n",
        "    <tr>\n",
        "      <th>59</th>\n",
        "      <td> 2015_04_22_0013</td>\n",
        "      <td> False</td>\n",
        "      <td> c290 x 2xegfp</td>\n",
        "    </tr>\n",
        "    <tr>\n",
        "      <th>60</th>\n",
        "      <td> 2015_04_22_0014</td>\n",
        "      <td> False</td>\n",
        "      <td> c290 x 2xegfp</td>\n",
        "    </tr>\n",
        "  </tbody>\n",
        "</table>\n",
        "</div>"
       ],
       "metadata": {},
       "output_type": "pyout",
       "prompt_number": 46,
       "text": [
        "           filename 2s static spot       genotype\n",
        "56  2015_04_22_0010          False  c290 x 2xegfp\n",
        "57  2015_04_22_0011          False  c290 x 2xegfp\n",
        "58  2015_04_22_0012          False  c290 x 2xegfp\n",
        "59  2015_04_22_0013          False  c290 x 2xegfp\n",
        "60  2015_04_22_0014          False  c290 x 2xegfp"
       ]
      }
     ],
     "prompt_number": 46
    },
    {
     "cell_type": "code",
     "collapsed": false,
     "input": [
      "# now get all filenames in the directory\n",
      "# take files that start with 2015_05*.abf"
     ],
     "language": "python",
     "metadata": {},
     "outputs": [],
     "prompt_number": 14
    },
    {
     "cell_type": "code",
     "collapsed": false,
     "input": [
      "may_experiments_prefix = path_name + '2015_05*.abf'\n",
      "print may_experiments_prefix"
     ],
     "language": "python",
     "metadata": {},
     "outputs": [
      {
       "output_type": "stream",
       "stream": "stdout",
       "text": [
        "/Users/jamie/Dropbox/maimon lab - behavioral data/2015_05*.abf\n"
       ]
      }
     ],
     "prompt_number": 16
    },
    {
     "cell_type": "code",
     "collapsed": false,
     "input": [
      "import glob\n",
      "full_file_names = glob.glob(may_experiments_prefix)"
     ],
     "language": "python",
     "metadata": {},
     "outputs": [],
     "prompt_number": 18
    },
    {
     "cell_type": "code",
     "collapsed": false,
     "input": [
      "full_file_names[0]"
     ],
     "language": "python",
     "metadata": {},
     "outputs": [
      {
       "metadata": {},
       "output_type": "pyout",
       "prompt_number": 44,
       "text": [
        "'/Users/jamie/Dropbox/maimon lab - behavioral data/2015_05_01_0000.abf'"
       ]
      }
     ],
     "prompt_number": 44
    },
    {
     "cell_type": "code",
     "collapsed": false,
     "input": [
      "short_f_names = [f[-19:-4] for f in full_file_names]"
     ],
     "language": "python",
     "metadata": {},
     "outputs": [],
     "prompt_number": 42
    },
    {
     "cell_type": "code",
     "collapsed": false,
     "input": [
      "short_f_names[0:2]"
     ],
     "language": "python",
     "metadata": {},
     "outputs": [
      {
       "metadata": {},
       "output_type": "pyout",
       "prompt_number": 45,
       "text": [
        "['2015_05_01_0000', '2015_05_01_0001']"
       ]
      }
     ],
     "prompt_number": 45
    },
    {
     "cell_type": "code",
     "collapsed": false,
     "input": [
      "# add the new filenames. "
     ],
     "language": "python",
     "metadata": {},
     "outputs": [],
     "prompt_number": 47
    },
    {
     "cell_type": "code",
     "collapsed": false,
     "input": [
      "# none have long static spots. genotypes vary, and some are strokelitude experiments"
     ],
     "language": "python",
     "metadata": {},
     "outputs": [],
     "prompt_number": 48
    },
    {
     "cell_type": "code",
     "collapsed": false,
     "input": [
      "new_experiments_df = pd.DataFrame(short_f_names,columns=['filename'])"
     ],
     "language": "python",
     "metadata": {},
     "outputs": [],
     "prompt_number": 52
    },
    {
     "cell_type": "code",
     "collapsed": false,
     "input": [
      "new_experiments_df.head()"
     ],
     "language": "python",
     "metadata": {},
     "outputs": [
      {
       "html": [
        "<div style=\"max-height:1000px;max-width:1500px;overflow:auto;\">\n",
        "<table border=\"1\" class=\"dataframe\">\n",
        "  <thead>\n",
        "    <tr style=\"text-align: right;\">\n",
        "      <th></th>\n",
        "      <th>filename</th>\n",
        "    </tr>\n",
        "  </thead>\n",
        "  <tbody>\n",
        "    <tr>\n",
        "      <th>0</th>\n",
        "      <td> 2015_05_01_0000</td>\n",
        "    </tr>\n",
        "    <tr>\n",
        "      <th>1</th>\n",
        "      <td> 2015_05_01_0001</td>\n",
        "    </tr>\n",
        "    <tr>\n",
        "      <th>2</th>\n",
        "      <td> 2015_05_01_0002</td>\n",
        "    </tr>\n",
        "    <tr>\n",
        "      <th>3</th>\n",
        "      <td> 2015_05_01_0003</td>\n",
        "    </tr>\n",
        "    <tr>\n",
        "      <th>4</th>\n",
        "      <td> 2015_05_01_0004</td>\n",
        "    </tr>\n",
        "  </tbody>\n",
        "</table>\n",
        "</div>"
       ],
       "metadata": {},
       "output_type": "pyout",
       "prompt_number": 54,
       "text": [
        "          filename\n",
        "0  2015_05_01_0000\n",
        "1  2015_05_01_0001\n",
        "2  2015_05_01_0002\n",
        "3  2015_05_01_0003\n",
        "4  2015_05_01_0004"
       ]
      }
     ],
     "prompt_number": 54
    },
    {
     "cell_type": "code",
     "collapsed": false,
     "input": [
      "experiments_df.tail()"
     ],
     "language": "python",
     "metadata": {},
     "outputs": [
      {
       "html": [
        "<div style=\"max-height:1000px;max-width:1500px;overflow:auto;\">\n",
        "<table border=\"1\" class=\"dataframe\">\n",
        "  <thead>\n",
        "    <tr style=\"text-align: right;\">\n",
        "      <th></th>\n",
        "      <th>filename</th>\n",
        "      <th>two s static spot</th>\n",
        "      <th>genotype</th>\n",
        "    </tr>\n",
        "  </thead>\n",
        "  <tbody>\n",
        "    <tr>\n",
        "      <th>56</th>\n",
        "      <td> 2015_04_22_0010</td>\n",
        "      <td> False</td>\n",
        "      <td> c290 x 2xegfp</td>\n",
        "    </tr>\n",
        "    <tr>\n",
        "      <th>57</th>\n",
        "      <td> 2015_04_22_0011</td>\n",
        "      <td> False</td>\n",
        "      <td> c290 x 2xegfp</td>\n",
        "    </tr>\n",
        "    <tr>\n",
        "      <th>58</th>\n",
        "      <td> 2015_04_22_0012</td>\n",
        "      <td> False</td>\n",
        "      <td> c290 x 2xegfp</td>\n",
        "    </tr>\n",
        "    <tr>\n",
        "      <th>59</th>\n",
        "      <td> 2015_04_22_0013</td>\n",
        "      <td> False</td>\n",
        "      <td> c290 x 2xegfp</td>\n",
        "    </tr>\n",
        "    <tr>\n",
        "      <th>60</th>\n",
        "      <td> 2015_04_22_0014</td>\n",
        "      <td> False</td>\n",
        "      <td> c290 x 2xegfp</td>\n",
        "    </tr>\n",
        "  </tbody>\n",
        "</table>\n",
        "</div>"
       ],
       "metadata": {},
       "output_type": "pyout",
       "prompt_number": 63,
       "text": [
        "           filename two s static spot       genotype\n",
        "56  2015_04_22_0010             False  c290 x 2xegfp\n",
        "57  2015_04_22_0011             False  c290 x 2xegfp\n",
        "58  2015_04_22_0012             False  c290 x 2xegfp\n",
        "59  2015_04_22_0013             False  c290 x 2xegfp\n",
        "60  2015_04_22_0014             False  c290 x 2xegfp"
       ]
      }
     ],
     "prompt_number": 63
    },
    {
     "cell_type": "code",
     "collapsed": false,
     "input": [
      "experiments_df.columns = ['filename', 'two s static spot', 'genotype']"
     ],
     "language": "python",
     "metadata": {},
     "outputs": [],
     "prompt_number": 64
    },
    {
     "cell_type": "code",
     "collapsed": false,
     "input": [
      "updated_experiments_df = pd.concat([experiments_df,new_experiments_df],ignore_index=True)"
     ],
     "language": "python",
     "metadata": {},
     "outputs": [],
     "prompt_number": 66
    },
    {
     "cell_type": "code",
     "collapsed": false,
     "input": [
      "updated_experiments_df.head()"
     ],
     "language": "python",
     "metadata": {},
     "outputs": [
      {
       "html": [
        "<div style=\"max-height:1000px;max-width:1500px;overflow:auto;\">\n",
        "<table border=\"1\" class=\"dataframe\">\n",
        "  <thead>\n",
        "    <tr style=\"text-align: right;\">\n",
        "      <th></th>\n",
        "      <th>filename</th>\n",
        "      <th>genotype</th>\n",
        "      <th>two s static spot</th>\n",
        "    </tr>\n",
        "  </thead>\n",
        "  <tbody>\n",
        "    <tr>\n",
        "      <th>0</th>\n",
        "      <td> 2015_03_28_0000</td>\n",
        "      <td> c290 x 2xegfp</td>\n",
        "      <td> False</td>\n",
        "    </tr>\n",
        "    <tr>\n",
        "      <th>1</th>\n",
        "      <td> 2015_03_28_0001</td>\n",
        "      <td> c290 x 2xegfp</td>\n",
        "      <td> False</td>\n",
        "    </tr>\n",
        "    <tr>\n",
        "      <th>2</th>\n",
        "      <td> 2015_03_30_0000</td>\n",
        "      <td> c290 x 2xegfp</td>\n",
        "      <td> False</td>\n",
        "    </tr>\n",
        "    <tr>\n",
        "      <th>3</th>\n",
        "      <td> 2015_03_30_0001</td>\n",
        "      <td> c290 x 2xegfp</td>\n",
        "      <td> False</td>\n",
        "    </tr>\n",
        "    <tr>\n",
        "      <th>4</th>\n",
        "      <td> 2015_03_30_0002</td>\n",
        "      <td> c290 x 2xegfp</td>\n",
        "      <td> False</td>\n",
        "    </tr>\n",
        "  </tbody>\n",
        "</table>\n",
        "</div>"
       ],
       "metadata": {},
       "output_type": "pyout",
       "prompt_number": 71,
       "text": [
        "          filename       genotype two s static spot\n",
        "0  2015_03_28_0000  c290 x 2xegfp             False\n",
        "1  2015_03_28_0001  c290 x 2xegfp             False\n",
        "2  2015_03_30_0000  c290 x 2xegfp             False\n",
        "3  2015_03_30_0001  c290 x 2xegfp             False\n",
        "4  2015_03_30_0002  c290 x 2xegfp             False"
       ]
      }
     ],
     "prompt_number": 71
    },
    {
     "cell_type": "code",
     "collapsed": false,
     "input": [
      "updated_experiments_df.tail()"
     ],
     "language": "python",
     "metadata": {},
     "outputs": [
      {
       "html": [
        "<div style=\"max-height:1000px;max-width:1500px;overflow:auto;\">\n",
        "<table border=\"1\" class=\"dataframe\">\n",
        "  <thead>\n",
        "    <tr style=\"text-align: right;\">\n",
        "      <th></th>\n",
        "      <th>filename</th>\n",
        "      <th>genotype</th>\n",
        "      <th>two s static spot</th>\n",
        "    </tr>\n",
        "  </thead>\n",
        "  <tbody>\n",
        "    <tr>\n",
        "      <th>95</th>\n",
        "      <td> 2015_05_12_0014</td>\n",
        "      <td> NaN</td>\n",
        "      <td> NaN</td>\n",
        "    </tr>\n",
        "    <tr>\n",
        "      <th>96</th>\n",
        "      <td> 2015_05_12_0015</td>\n",
        "      <td> NaN</td>\n",
        "      <td> NaN</td>\n",
        "    </tr>\n",
        "    <tr>\n",
        "      <th>97</th>\n",
        "      <td> 2015_05_12_0016</td>\n",
        "      <td> NaN</td>\n",
        "      <td> NaN</td>\n",
        "    </tr>\n",
        "    <tr>\n",
        "      <th>98</th>\n",
        "      <td> 2015_05_12_0017</td>\n",
        "      <td> NaN</td>\n",
        "      <td> NaN</td>\n",
        "    </tr>\n",
        "    <tr>\n",
        "      <th>99</th>\n",
        "      <td> 2015_05_12_0018</td>\n",
        "      <td> NaN</td>\n",
        "      <td> NaN</td>\n",
        "    </tr>\n",
        "  </tbody>\n",
        "</table>\n",
        "</div>"
       ],
       "metadata": {},
       "output_type": "pyout",
       "prompt_number": 72,
       "text": [
        "           filename genotype two s static spot\n",
        "95  2015_05_12_0014      NaN               NaN\n",
        "96  2015_05_12_0015      NaN               NaN\n",
        "97  2015_05_12_0016      NaN               NaN\n",
        "98  2015_05_12_0017      NaN               NaN\n",
        "99  2015_05_12_0018      NaN               NaN"
       ]
      }
     ],
     "prompt_number": 72
    },
    {
     "cell_type": "code",
     "collapsed": false,
     "input": [
      "# now add genotypes, strokelitude information"
     ],
     "language": "python",
     "metadata": {},
     "outputs": [],
     "prompt_number": 73
    },
    {
     "cell_type": "code",
     "collapsed": false,
     "input": [
      "updated_experiments_df.ix[61:68,slice(None)]"
     ],
     "language": "python",
     "metadata": {},
     "outputs": [
      {
       "html": [
        "<div style=\"max-height:1000px;max-width:1500px;overflow:auto;\">\n",
        "<table border=\"1\" class=\"dataframe\">\n",
        "  <thead>\n",
        "    <tr style=\"text-align: right;\">\n",
        "      <th></th>\n",
        "      <th>filename</th>\n",
        "      <th>genotype</th>\n",
        "      <th>two s static spot</th>\n",
        "    </tr>\n",
        "  </thead>\n",
        "  <tbody>\n",
        "    <tr>\n",
        "      <th>61</th>\n",
        "      <td> 2015_05_01_0000</td>\n",
        "      <td> NaN</td>\n",
        "      <td> NaN</td>\n",
        "    </tr>\n",
        "    <tr>\n",
        "      <th>62</th>\n",
        "      <td> 2015_05_01_0001</td>\n",
        "      <td> NaN</td>\n",
        "      <td> NaN</td>\n",
        "    </tr>\n",
        "    <tr>\n",
        "      <th>63</th>\n",
        "      <td> 2015_05_01_0002</td>\n",
        "      <td> NaN</td>\n",
        "      <td> NaN</td>\n",
        "    </tr>\n",
        "    <tr>\n",
        "      <th>64</th>\n",
        "      <td> 2015_05_01_0003</td>\n",
        "      <td> NaN</td>\n",
        "      <td> NaN</td>\n",
        "    </tr>\n",
        "    <tr>\n",
        "      <th>65</th>\n",
        "      <td> 2015_05_01_0004</td>\n",
        "      <td> NaN</td>\n",
        "      <td> NaN</td>\n",
        "    </tr>\n",
        "    <tr>\n",
        "      <th>66</th>\n",
        "      <td> 2015_05_04_0000</td>\n",
        "      <td> NaN</td>\n",
        "      <td> NaN</td>\n",
        "    </tr>\n",
        "    <tr>\n",
        "      <th>67</th>\n",
        "      <td> 2015_05_04_0001</td>\n",
        "      <td> NaN</td>\n",
        "      <td> NaN</td>\n",
        "    </tr>\n",
        "    <tr>\n",
        "      <th>68</th>\n",
        "      <td> 2015_05_04_0002</td>\n",
        "      <td> NaN</td>\n",
        "      <td> NaN</td>\n",
        "    </tr>\n",
        "  </tbody>\n",
        "</table>\n",
        "</div>"
       ],
       "metadata": {},
       "output_type": "pyout",
       "prompt_number": 75,
       "text": [
        "           filename genotype two s static spot\n",
        "61  2015_05_01_0000      NaN               NaN\n",
        "62  2015_05_01_0001      NaN               NaN\n",
        "63  2015_05_01_0002      NaN               NaN\n",
        "64  2015_05_01_0003      NaN               NaN\n",
        "65  2015_05_01_0004      NaN               NaN\n",
        "66  2015_05_04_0000      NaN               NaN\n",
        "67  2015_05_04_0001      NaN               NaN\n",
        "68  2015_05_04_0002      NaN               NaN"
       ]
      }
     ],
     "prompt_number": 75
    },
    {
     "cell_type": "code",
     "collapsed": false,
     "input": [
      "updated_experiments_df['strokelitude'] = False"
     ],
     "language": "python",
     "metadata": {},
     "outputs": [],
     "prompt_number": 76
    },
    {
     "cell_type": "code",
     "collapsed": false,
     "input": [
      "updated_experiments_df.ix[61:68,slice(None)]"
     ],
     "language": "python",
     "metadata": {},
     "outputs": [
      {
       "html": [
        "<div style=\"max-height:1000px;max-width:1500px;overflow:auto;\">\n",
        "<table border=\"1\" class=\"dataframe\">\n",
        "  <thead>\n",
        "    <tr style=\"text-align: right;\">\n",
        "      <th></th>\n",
        "      <th>filename</th>\n",
        "      <th>genotype</th>\n",
        "      <th>two s static spot</th>\n",
        "      <th>strokelitude</th>\n",
        "    </tr>\n",
        "  </thead>\n",
        "  <tbody>\n",
        "    <tr>\n",
        "      <th>61</th>\n",
        "      <td> 2015_05_01_0000</td>\n",
        "      <td> NaN</td>\n",
        "      <td> NaN</td>\n",
        "      <td> False</td>\n",
        "    </tr>\n",
        "    <tr>\n",
        "      <th>62</th>\n",
        "      <td> 2015_05_01_0001</td>\n",
        "      <td> NaN</td>\n",
        "      <td> NaN</td>\n",
        "      <td> False</td>\n",
        "    </tr>\n",
        "    <tr>\n",
        "      <th>63</th>\n",
        "      <td> 2015_05_01_0002</td>\n",
        "      <td> NaN</td>\n",
        "      <td> NaN</td>\n",
        "      <td> False</td>\n",
        "    </tr>\n",
        "    <tr>\n",
        "      <th>64</th>\n",
        "      <td> 2015_05_01_0003</td>\n",
        "      <td> NaN</td>\n",
        "      <td> NaN</td>\n",
        "      <td> False</td>\n",
        "    </tr>\n",
        "    <tr>\n",
        "      <th>65</th>\n",
        "      <td> 2015_05_01_0004</td>\n",
        "      <td> NaN</td>\n",
        "      <td> NaN</td>\n",
        "      <td> False</td>\n",
        "    </tr>\n",
        "    <tr>\n",
        "      <th>66</th>\n",
        "      <td> 2015_05_04_0000</td>\n",
        "      <td> NaN</td>\n",
        "      <td> NaN</td>\n",
        "      <td> False</td>\n",
        "    </tr>\n",
        "    <tr>\n",
        "      <th>67</th>\n",
        "      <td> 2015_05_04_0001</td>\n",
        "      <td> NaN</td>\n",
        "      <td> NaN</td>\n",
        "      <td> False</td>\n",
        "    </tr>\n",
        "    <tr>\n",
        "      <th>68</th>\n",
        "      <td> 2015_05_04_0002</td>\n",
        "      <td> NaN</td>\n",
        "      <td> NaN</td>\n",
        "      <td> False</td>\n",
        "    </tr>\n",
        "  </tbody>\n",
        "</table>\n",
        "</div>"
       ],
       "metadata": {},
       "output_type": "pyout",
       "prompt_number": 77,
       "text": [
        "           filename genotype two s static spot strokelitude\n",
        "61  2015_05_01_0000      NaN               NaN        False\n",
        "62  2015_05_01_0001      NaN               NaN        False\n",
        "63  2015_05_01_0002      NaN               NaN        False\n",
        "64  2015_05_01_0003      NaN               NaN        False\n",
        "65  2015_05_01_0004      NaN               NaN        False\n",
        "66  2015_05_04_0000      NaN               NaN        False\n",
        "67  2015_05_04_0001      NaN               NaN        False\n",
        "68  2015_05_04_0002      NaN               NaN        False"
       ]
      }
     ],
     "prompt_number": 77
    },
    {
     "cell_type": "code",
     "collapsed": false,
     "input": [
      "updated_experiments_df.ix[61:68,'strokelitude'] = True"
     ],
     "language": "python",
     "metadata": {},
     "outputs": [],
     "prompt_number": 78
    },
    {
     "cell_type": "code",
     "collapsed": false,
     "input": [
      "updated_experiments_df.ix[61:68,slice(None)]"
     ],
     "language": "python",
     "metadata": {},
     "outputs": [
      {
       "html": [
        "<div style=\"max-height:1000px;max-width:1500px;overflow:auto;\">\n",
        "<table border=\"1\" class=\"dataframe\">\n",
        "  <thead>\n",
        "    <tr style=\"text-align: right;\">\n",
        "      <th></th>\n",
        "      <th>filename</th>\n",
        "      <th>genotype</th>\n",
        "      <th>two s static spot</th>\n",
        "      <th>strokelitude</th>\n",
        "    </tr>\n",
        "  </thead>\n",
        "  <tbody>\n",
        "    <tr>\n",
        "      <th>61</th>\n",
        "      <td> 2015_05_01_0000</td>\n",
        "      <td> NaN</td>\n",
        "      <td> NaN</td>\n",
        "      <td> True</td>\n",
        "    </tr>\n",
        "    <tr>\n",
        "      <th>62</th>\n",
        "      <td> 2015_05_01_0001</td>\n",
        "      <td> NaN</td>\n",
        "      <td> NaN</td>\n",
        "      <td> True</td>\n",
        "    </tr>\n",
        "    <tr>\n",
        "      <th>63</th>\n",
        "      <td> 2015_05_01_0002</td>\n",
        "      <td> NaN</td>\n",
        "      <td> NaN</td>\n",
        "      <td> True</td>\n",
        "    </tr>\n",
        "    <tr>\n",
        "      <th>64</th>\n",
        "      <td> 2015_05_01_0003</td>\n",
        "      <td> NaN</td>\n",
        "      <td> NaN</td>\n",
        "      <td> True</td>\n",
        "    </tr>\n",
        "    <tr>\n",
        "      <th>65</th>\n",
        "      <td> 2015_05_01_0004</td>\n",
        "      <td> NaN</td>\n",
        "      <td> NaN</td>\n",
        "      <td> True</td>\n",
        "    </tr>\n",
        "    <tr>\n",
        "      <th>66</th>\n",
        "      <td> 2015_05_04_0000</td>\n",
        "      <td> NaN</td>\n",
        "      <td> NaN</td>\n",
        "      <td> True</td>\n",
        "    </tr>\n",
        "    <tr>\n",
        "      <th>67</th>\n",
        "      <td> 2015_05_04_0001</td>\n",
        "      <td> NaN</td>\n",
        "      <td> NaN</td>\n",
        "      <td> True</td>\n",
        "    </tr>\n",
        "    <tr>\n",
        "      <th>68</th>\n",
        "      <td> 2015_05_04_0002</td>\n",
        "      <td> NaN</td>\n",
        "      <td> NaN</td>\n",
        "      <td> True</td>\n",
        "    </tr>\n",
        "  </tbody>\n",
        "</table>\n",
        "</div>"
       ],
       "metadata": {},
       "output_type": "pyout",
       "prompt_number": 79,
       "text": [
        "           filename genotype two s static spot strokelitude\n",
        "61  2015_05_01_0000      NaN               NaN         True\n",
        "62  2015_05_01_0001      NaN               NaN         True\n",
        "63  2015_05_01_0002      NaN               NaN         True\n",
        "64  2015_05_01_0003      NaN               NaN         True\n",
        "65  2015_05_01_0004      NaN               NaN         True\n",
        "66  2015_05_04_0000      NaN               NaN         True\n",
        "67  2015_05_04_0001      NaN               NaN         True\n",
        "68  2015_05_04_0002      NaN               NaN         True"
       ]
      }
     ],
     "prompt_number": 79
    },
    {
     "cell_type": "code",
     "collapsed": false,
     "input": [
      "updated_experiments_df.ix[61:68,'genotype'] = 'c290 x 2xegfp'"
     ],
     "language": "python",
     "metadata": {},
     "outputs": [],
     "prompt_number": 80
    },
    {
     "cell_type": "code",
     "collapsed": false,
     "input": [
      "updated_experiments_df.ix[69:,'genotype'] = 'c290 x 2xegfp, NP background'"
     ],
     "language": "python",
     "metadata": {},
     "outputs": [],
     "prompt_number": 85
    },
    {
     "cell_type": "code",
     "collapsed": false,
     "input": [
      "updated_experiments_df.tail()"
     ],
     "language": "python",
     "metadata": {},
     "outputs": [
      {
       "html": [
        "<div style=\"max-height:1000px;max-width:1500px;overflow:auto;\">\n",
        "<table border=\"1\" class=\"dataframe\">\n",
        "  <thead>\n",
        "    <tr style=\"text-align: right;\">\n",
        "      <th></th>\n",
        "      <th>filename</th>\n",
        "      <th>genotype</th>\n",
        "      <th>two s static spot</th>\n",
        "      <th>strokelitude</th>\n",
        "    </tr>\n",
        "  </thead>\n",
        "  <tbody>\n",
        "    <tr>\n",
        "      <th>95</th>\n",
        "      <td> 2015_05_12_0014</td>\n",
        "      <td> c290 x 2xegfp, NP background</td>\n",
        "      <td> NaN</td>\n",
        "      <td> False</td>\n",
        "    </tr>\n",
        "    <tr>\n",
        "      <th>96</th>\n",
        "      <td> 2015_05_12_0015</td>\n",
        "      <td> c290 x 2xegfp, NP background</td>\n",
        "      <td> NaN</td>\n",
        "      <td> False</td>\n",
        "    </tr>\n",
        "    <tr>\n",
        "      <th>97</th>\n",
        "      <td> 2015_05_12_0016</td>\n",
        "      <td> c290 x 2xegfp, NP background</td>\n",
        "      <td> NaN</td>\n",
        "      <td> False</td>\n",
        "    </tr>\n",
        "    <tr>\n",
        "      <th>98</th>\n",
        "      <td> 2015_05_12_0017</td>\n",
        "      <td> c290 x 2xegfp, NP background</td>\n",
        "      <td> NaN</td>\n",
        "      <td> False</td>\n",
        "    </tr>\n",
        "    <tr>\n",
        "      <th>99</th>\n",
        "      <td> 2015_05_12_0018</td>\n",
        "      <td> c290 x 2xegfp, NP background</td>\n",
        "      <td> NaN</td>\n",
        "      <td> False</td>\n",
        "    </tr>\n",
        "  </tbody>\n",
        "</table>\n",
        "</div>"
       ],
       "metadata": {},
       "output_type": "pyout",
       "prompt_number": 86,
       "text": [
        "           filename                      genotype two s static spot  \\\n",
        "95  2015_05_12_0014  c290 x 2xegfp, NP background               NaN   \n",
        "96  2015_05_12_0015  c290 x 2xegfp, NP background               NaN   \n",
        "97  2015_05_12_0016  c290 x 2xegfp, NP background               NaN   \n",
        "98  2015_05_12_0017  c290 x 2xegfp, NP background               NaN   \n",
        "99  2015_05_12_0018  c290 x 2xegfp, NP background               NaN   \n",
        "\n",
        "   strokelitude  \n",
        "95        False  \n",
        "96        False  \n",
        "97        False  \n",
        "98        False  \n",
        "99        False  "
       ]
      }
     ],
     "prompt_number": 86
    },
    {
     "cell_type": "code",
     "collapsed": false,
     "input": [
      "updated_experiments_df['two s static spot'].fillna(False,inplace=True)"
     ],
     "language": "python",
     "metadata": {},
     "outputs": [],
     "prompt_number": 87
    },
    {
     "cell_type": "code",
     "collapsed": false,
     "input": [
      "updated_experiments_df.tail()"
     ],
     "language": "python",
     "metadata": {},
     "outputs": [
      {
       "html": [
        "<div style=\"max-height:1000px;max-width:1500px;overflow:auto;\">\n",
        "<table border=\"1\" class=\"dataframe\">\n",
        "  <thead>\n",
        "    <tr style=\"text-align: right;\">\n",
        "      <th></th>\n",
        "      <th>filename</th>\n",
        "      <th>genotype</th>\n",
        "      <th>two s static spot</th>\n",
        "      <th>strokelitude</th>\n",
        "    </tr>\n",
        "  </thead>\n",
        "  <tbody>\n",
        "    <tr>\n",
        "      <th>95</th>\n",
        "      <td> 2015_05_12_0014</td>\n",
        "      <td> c290 x 2xegfp, NP background</td>\n",
        "      <td> False</td>\n",
        "      <td> False</td>\n",
        "    </tr>\n",
        "    <tr>\n",
        "      <th>96</th>\n",
        "      <td> 2015_05_12_0015</td>\n",
        "      <td> c290 x 2xegfp, NP background</td>\n",
        "      <td> False</td>\n",
        "      <td> False</td>\n",
        "    </tr>\n",
        "    <tr>\n",
        "      <th>97</th>\n",
        "      <td> 2015_05_12_0016</td>\n",
        "      <td> c290 x 2xegfp, NP background</td>\n",
        "      <td> False</td>\n",
        "      <td> False</td>\n",
        "    </tr>\n",
        "    <tr>\n",
        "      <th>98</th>\n",
        "      <td> 2015_05_12_0017</td>\n",
        "      <td> c290 x 2xegfp, NP background</td>\n",
        "      <td> False</td>\n",
        "      <td> False</td>\n",
        "    </tr>\n",
        "    <tr>\n",
        "      <th>99</th>\n",
        "      <td> 2015_05_12_0018</td>\n",
        "      <td> c290 x 2xegfp, NP background</td>\n",
        "      <td> False</td>\n",
        "      <td> False</td>\n",
        "    </tr>\n",
        "  </tbody>\n",
        "</table>\n",
        "</div>"
       ],
       "metadata": {},
       "output_type": "pyout",
       "prompt_number": 88,
       "text": [
        "           filename                      genotype two s static spot  \\\n",
        "95  2015_05_12_0014  c290 x 2xegfp, NP background             False   \n",
        "96  2015_05_12_0015  c290 x 2xegfp, NP background             False   \n",
        "97  2015_05_12_0016  c290 x 2xegfp, NP background             False   \n",
        "98  2015_05_12_0017  c290 x 2xegfp, NP background             False   \n",
        "99  2015_05_12_0018  c290 x 2xegfp, NP background             False   \n",
        "\n",
        "   strokelitude  \n",
        "95        False  \n",
        "96        False  \n",
        "97        False  \n",
        "98        False  \n",
        "99        False  "
       ]
      }
     ],
     "prompt_number": 88
    },
    {
     "cell_type": "code",
     "collapsed": false,
     "input": [
      "# now save all experiments dataframe\n",
      "updated_experiments_df.to_pickle('saccadic_suppression_flies.save')"
     ],
     "language": "python",
     "metadata": {},
     "outputs": [],
     "prompt_number": 89
    },
    {
     "cell_type": "code",
     "collapsed": false,
     "input": [
      "# load to check\n",
      "experiments_df = pd.read_pickle('saccadic_suppression_flies.save')"
     ],
     "language": "python",
     "metadata": {},
     "outputs": [],
     "prompt_number": 90
    },
    {
     "cell_type": "code",
     "collapsed": false,
     "input": [
      "experiments_df.tail()"
     ],
     "language": "python",
     "metadata": {},
     "outputs": [
      {
       "html": [
        "<div style=\"max-height:1000px;max-width:1500px;overflow:auto;\">\n",
        "<table border=\"1\" class=\"dataframe\">\n",
        "  <thead>\n",
        "    <tr style=\"text-align: right;\">\n",
        "      <th></th>\n",
        "      <th>filename</th>\n",
        "      <th>genotype</th>\n",
        "      <th>two s static spot</th>\n",
        "      <th>strokelitude</th>\n",
        "    </tr>\n",
        "  </thead>\n",
        "  <tbody>\n",
        "    <tr>\n",
        "      <th>95</th>\n",
        "      <td> 2015_05_12_0014</td>\n",
        "      <td> c290 x 2xegfp, NP background</td>\n",
        "      <td> False</td>\n",
        "      <td> False</td>\n",
        "    </tr>\n",
        "    <tr>\n",
        "      <th>96</th>\n",
        "      <td> 2015_05_12_0015</td>\n",
        "      <td> c290 x 2xegfp, NP background</td>\n",
        "      <td> False</td>\n",
        "      <td> False</td>\n",
        "    </tr>\n",
        "    <tr>\n",
        "      <th>97</th>\n",
        "      <td> 2015_05_12_0016</td>\n",
        "      <td> c290 x 2xegfp, NP background</td>\n",
        "      <td> False</td>\n",
        "      <td> False</td>\n",
        "    </tr>\n",
        "    <tr>\n",
        "      <th>98</th>\n",
        "      <td> 2015_05_12_0017</td>\n",
        "      <td> c290 x 2xegfp, NP background</td>\n",
        "      <td> False</td>\n",
        "      <td> False</td>\n",
        "    </tr>\n",
        "    <tr>\n",
        "      <th>99</th>\n",
        "      <td> 2015_05_12_0018</td>\n",
        "      <td> c290 x 2xegfp, NP background</td>\n",
        "      <td> False</td>\n",
        "      <td> False</td>\n",
        "    </tr>\n",
        "  </tbody>\n",
        "</table>\n",
        "</div>"
       ],
       "metadata": {},
       "output_type": "pyout",
       "prompt_number": 91,
       "text": [
        "           filename                      genotype two s static spot  \\\n",
        "95  2015_05_12_0014  c290 x 2xegfp, NP background             False   \n",
        "96  2015_05_12_0015  c290 x 2xegfp, NP background             False   \n",
        "97  2015_05_12_0016  c290 x 2xegfp, NP background             False   \n",
        "98  2015_05_12_0017  c290 x 2xegfp, NP background             False   \n",
        "99  2015_05_12_0018  c290 x 2xegfp, NP background             False   \n",
        "\n",
        "   strokelitude  \n",
        "95        False  \n",
        "96        False  \n",
        "97        False  \n",
        "98        False  \n",
        "99        False  "
       ]
      }
     ],
     "prompt_number": 91
    },
    {
     "cell_type": "code",
     "collapsed": false,
     "input": [],
     "language": "python",
     "metadata": {},
     "outputs": []
    }
   ],
   "metadata": {}
  }
 ]
}