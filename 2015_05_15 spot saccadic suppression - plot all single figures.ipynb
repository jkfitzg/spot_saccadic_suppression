{
 "metadata": {
  "name": "",
  "signature": "sha256:d246b88868f20dad1a14c8ce646c09df71f131dd84cd37f28972570415733743"
 },
 "nbformat": 3,
 "nbformat_minor": 0,
 "worksheets": [
  {
   "cells": [
    {
     "cell_type": "code",
     "collapsed": false,
     "input": [
      "# plot all figures for individual flies\n",
      "#  -- overlaid trials\n",
      "#  -- y offset trials + marked saccades \n",
      "#\n",
      "# then plot all saccade analysis for current figures"
     ],
     "language": "python",
     "metadata": {},
     "outputs": [],
     "prompt_number": 5
    },
    {
     "cell_type": "code",
     "collapsed": false,
     "input": [
      "# update figures from before lab meeting\n",
      "# updates: \n",
      "#  - showing flash responses \n",
      "#  - better filtering\n",
      "#  - compressed whitespaces\n",
      "#  - include genotype\n",
      "#  - size/proportion for slides\n",
      "\n",
      "# later? \n",
      "#  - show spot on -- actually this is just an estimate. \n",
      "#       from load to panels, ~300 ms? I need a photodiode for this?\n",
      "#  - move spot on the left figures to the left \n",
      "#     will this make my saccade detection annoying? \n"
     ],
     "language": "python",
     "metadata": {},
     "outputs": [],
     "prompt_number": 6
    },
    {
     "cell_type": "code",
     "collapsed": false,
     "input": [
      "%matplotlib qt"
     ],
     "language": "python",
     "metadata": {},
     "outputs": [],
     "prompt_number": 7
    },
    {
     "cell_type": "code",
     "collapsed": false,
     "input": [
      "cd /Users/jamie/GitHub/spot_saccadic_suppression"
     ],
     "language": "python",
     "metadata": {},
     "outputs": [
      {
       "output_type": "stream",
       "stream": "stdout",
       "text": [
        "/Users/jamie/GitHub/spot_saccadic_suppression\n"
       ]
      }
     ],
     "prompt_number": 8
    },
    {
     "cell_type": "code",
     "collapsed": false,
     "input": [
      "%load_ext autoreload\n",
      "%autoreload 2\n",
      "from spot_saccadic_supression import *"
     ],
     "language": "python",
     "metadata": {},
     "outputs": [],
     "prompt_number": 9
    },
    {
     "cell_type": "code",
     "collapsed": false,
     "input": [
      "path_name = '/Users/jamie/Dropbox/maimon lab - behavioral data/'"
     ],
     "language": "python",
     "metadata": {},
     "outputs": [],
     "prompt_number": 10
    },
    {
     "cell_type": "code",
     "collapsed": false,
     "input": [
      "saccadic_suppression_flies = pd.read_pickle('saccadic_suppression_flies.save')"
     ],
     "language": "python",
     "metadata": {},
     "outputs": [],
     "prompt_number": 12
    },
    {
     "cell_type": "code",
     "collapsed": false,
     "input": [
      "saccadic_suppression_flies.tail()"
     ],
     "language": "python",
     "metadata": {},
     "outputs": [
      {
       "html": [
        "<div style=\"max-height:1000px;max-width:1500px;overflow:auto;\">\n",
        "<table border=\"1\" class=\"dataframe\">\n",
        "  <thead>\n",
        "    <tr style=\"text-align: right;\">\n",
        "      <th></th>\n",
        "      <th>filename</th>\n",
        "      <th>2s static spot</th>\n",
        "      <th>genotype</th>\n",
        "    </tr>\n",
        "  </thead>\n",
        "  <tbody>\n",
        "    <tr>\n",
        "      <th>56</th>\n",
        "      <td> 2015_04_22_0010</td>\n",
        "      <td> False</td>\n",
        "      <td> c290 x 2xegfp</td>\n",
        "    </tr>\n",
        "    <tr>\n",
        "      <th>57</th>\n",
        "      <td> 2015_04_22_0011</td>\n",
        "      <td> False</td>\n",
        "      <td> c290 x 2xegfp</td>\n",
        "    </tr>\n",
        "    <tr>\n",
        "      <th>58</th>\n",
        "      <td> 2015_04_22_0012</td>\n",
        "      <td> False</td>\n",
        "      <td> c290 x 2xegfp</td>\n",
        "    </tr>\n",
        "    <tr>\n",
        "      <th>59</th>\n",
        "      <td> 2015_04_22_0013</td>\n",
        "      <td> False</td>\n",
        "      <td> c290 x 2xegfp</td>\n",
        "    </tr>\n",
        "    <tr>\n",
        "      <th>60</th>\n",
        "      <td> 2015_04_22_0014</td>\n",
        "      <td> False</td>\n",
        "      <td> c290 x 2xegfp</td>\n",
        "    </tr>\n",
        "  </tbody>\n",
        "</table>\n",
        "</div>"
       ],
       "metadata": {},
       "output_type": "pyout",
       "prompt_number": 14,
       "text": [
        "           filename 2s static spot       genotype\n",
        "56  2015_04_22_0010          False  c290 x 2xegfp\n",
        "57  2015_04_22_0011          False  c290 x 2xegfp\n",
        "58  2015_04_22_0012          False  c290 x 2xegfp\n",
        "59  2015_04_22_0013          False  c290 x 2xegfp\n",
        "60  2015_04_22_0014          False  c290 x 2xegfp"
       ]
      }
     ],
     "prompt_number": 14
    },
    {
     "cell_type": "code",
     "collapsed": false,
     "input": [
      "# first just plot all overlaid trials with 48 hz low-pass \n",
      "# butterworth filter"
     ],
     "language": "python",
     "metadata": {},
     "outputs": [],
     "prompt_number": 15
    },
    {
     "cell_type": "code",
     "collapsed": false,
     "input": [
      "# plot one fly\n",
      "for i in saccadic_suppression_flies.index.values:\n",
      "    print i\n",
      "    f_name = saccadic_suppression_flies.ix[i,'filename']\n",
      "    genotype = saccadic_suppression_flies.ix[i,'genotype']\n",
      "    long_static_spot = saccadic_suppression_flies.ix[i,'2s static spot']\n",
      "\n",
      "    fly = Spot_Saccadic_Supression(path_name + f_name)\n",
      "    fly.process_fly()\n",
      "    title = f_name + '  ' + genotype\n",
      "    \n",
      "    if long_static_spot: \n",
      "        title = title + '   2s static spot'\n",
      "        fly.plot_wba_by_cnd(title_txt=title, long_static_spot=True)\n",
      "    else: \n",
      "        fly.plot_wba_by_cnd(title_txt=title)\n",
      "    plt.close('all')"
     ],
     "language": "python",
     "metadata": {},
     "outputs": [
      {
       "output_type": "stream",
       "stream": "stdout",
       "text": [
        "60\n"
       ]
      }
     ],
     "prompt_number": 72
    },
    {
     "cell_type": "code",
     "collapsed": false,
     "input": [
      "# Find, record all saccades from this paradigm\n",
      "# \n",
      "# For each fly\n",
      "#   for each saccade get:  \n",
      "#     -- condition, tr #\n",
      "#     -- saccade start time -- by hand -- may later add a diff threshold\n",
      "#     -- saccade direction: left, right\n",
      "#     -- saccade grade: A, B, C \n",
      "#     -- saccade amplitude -- later"
     ],
     "language": "python",
     "metadata": {},
     "outputs": [],
     "prompt_number": 17
    },
    {
     "cell_type": "code",
     "collapsed": false,
     "input": [
      "saccades_dict = {} # initialize saccades_dictionary"
     ],
     "language": "python",
     "metadata": {},
     "outputs": [],
     "prompt_number": 18
    },
    {
     "cell_type": "raw",
     "metadata": {},
     "source": [
      "# skipped flies. some may be useful later.\n",
      "\n",
      "saccades_dict['04_16_0004']=[] #under sampled\n",
      "saccades_dict['04_16_0003']=[] # poor signal to noise\n",
      "saccades_dict['04_16_0001']=[] # poor signal to noise\n",
      "saccades_dict['04_16_0000']=[]  # mediocre signal to noise. may be able to get saccades\n",
      "\n",
      "#I should shift the baseline window earlier for the long static spot trials\n",
      "saccades_dict['04_15_0005']=[] # messy, splotches \n",
      "saccades_dict['04_15_0004']=[] # some saccades, but I need to space these better 39:40\n",
      "saccades_dict['04_15_0003']=[] # adapted very quickly.\n",
      "\n",
      "# 04_15_0002 -- nice, but I need better visualizations\n",
      "# also try on _0004, 1, 0. skipping these for now\n",
      "saccades_dict['04_10_0008']=[] # only ~4 samples/rep\n",
      "# maybe I can salvage something from 04_10_0009 -- few trials, but nice\n",
      "saccades_dict['04_10_0006'] = [] # very few saccades"
     ]
    },
    {
     "cell_type": "code",
     "collapsed": false,
     "input": [
      "saccades_dict['04_10_0007']=[(0,6,495,'R','B'),\\\n",
      "                             (3,13,500,'R','B')] "
     ],
     "language": "python",
     "metadata": {},
     "outputs": [],
     "prompt_number": 22
    },
    {
     "cell_type": "code",
     "collapsed": false,
     "input": [
      "saccades_dict['04_10_0006']=[(1,3,270,'L','C'),\\\n",
      "                             (3,16,175,'L','C')] "
     ],
     "language": "python",
     "metadata": {},
     "outputs": [],
     "prompt_number": 23
    },
    {
     "cell_type": "code",
     "collapsed": false,
     "input": [
      "saccades_dict['04_16_0002']=[(0,3,430,'R','A'),(0,24,450,'L','B'),\\\n",
      "                             (1,10,585,'L','A'),(1,14,125,'R','A'),\\\n",
      "                             (1,19,500,'L','A'),\\\n",
      "                             (1,21,280,'R','B'),(2,17,320,'R','A'),\\\n",
      "                             (2,13,485,'R','A'),\n",
      "                             (3,22,425,'R','A')] "
     ],
     "language": "python",
     "metadata": {},
     "outputs": [],
     "prompt_number": 24
    },
    {
     "cell_type": "code",
     "collapsed": false,
     "input": [
      "saccades_dict['04_10_0005']=[(0,1,200,'L','A'),(0,9,380,'R','A'),\\\n",
      "                             (0,11,200,'R','A'),(2,11,115,'L','A'),\\\n",
      "                             (3,4,500,'R','A'),(3,3,475,'R','B'),\n",
      "                             (3,8,520,'L','A'),(3,11,250,'L','B'),\\\n",
      "                             (3,9,430,'L','A'),]\n",
      "# cool saccades for stim 0 and 3!! possible blindness? "
     ],
     "language": "python",
     "metadata": {},
     "outputs": [],
     "prompt_number": 25
    },
    {
     "cell_type": "code",
     "collapsed": false,
     "input": [
      "saccades_dict['04_16_0000']=[(2,10,540,'R','A')]\n"
     ],
     "language": "python",
     "metadata": {},
     "outputs": [],
     "prompt_number": 26
    },
    {
     "cell_type": "code",
     "collapsed": false,
     "input": [
      "saccades_dict['04_10_0000']=[(0,10,475,'R','B'),(1,9,400,'L','B'),\n",
      "                             (3,19,445,'L','A'),(0,12,385,'L','B')]"
     ],
     "language": "python",
     "metadata": {},
     "outputs": [],
     "prompt_number": 27
    },
    {
     "cell_type": "code",
     "collapsed": false,
     "input": [
      "saccades_dict['04_22_0012']=[(1,5,335,'L','A'),(0,9,460,'L','B'),\n",
      "                             (1,12,185,'L','A'),(3,3,475,'R','A')]"
     ],
     "language": "python",
     "metadata": {},
     "outputs": [],
     "prompt_number": 28
    },
    {
     "cell_type": "code",
     "collapsed": false,
     "input": [
      "saccades_dict['04_22_0011']=[(0,17,100,'L','B'),(3,19,345,'R','A')]"
     ],
     "language": "python",
     "metadata": {},
     "outputs": [],
     "prompt_number": 29
    },
    {
     "cell_type": "code",
     "collapsed": false,
     "input": [
      "saccades_dict['04_22_0010']=[(0,6,100,'L','B'),(0,7,100,'L','C'),\n",
      "                             (0,13,240,'R','B'),(1,2,450,'L','B'),\n",
      "                             (2,15,330,'L','B'),(2,24,425,'R','A'),\n",
      "                             (1,20,400,'L','A'),(2,20,190,'L','A'),\n",
      "                             (1,21,500,'L','A'),(3,22,415,'L','A'),\n",
      "                             (0,32,380,'L','A'),(0,34,350,'L','A'),\n",
      "                             (2,36,500,'L','A'),(3,38,360,'L','A'),\n",
      "                             (1,33,50,'L','B')\n",
      "                             ]"
     ],
     "language": "python",
     "metadata": {},
     "outputs": [],
     "prompt_number": 30
    },
    {
     "cell_type": "code",
     "collapsed": false,
     "input": [
      "saccades_dict['04_22_0009']=[(2,11,585,'L','B'),(3,14,445,'L','B')]"
     ],
     "language": "python",
     "metadata": {},
     "outputs": [],
     "prompt_number": 31
    },
    {
     "cell_type": "code",
     "collapsed": false,
     "input": [
      "saccades_dict['04_22_0008']=[(1,2,200,'R','B'),(3,2,200,'L','B'),\n",
      "                             (1,3,130,'L','B'),(0,17,100,'L','A'),\n",
      "                             (1,19,140,'L','A'),(3,10,280,'R','A'),\n",
      "                             (2,30,440,'R','A')]"
     ],
     "language": "python",
     "metadata": {},
     "outputs": [],
     "prompt_number": 32
    },
    {
     "cell_type": "code",
     "collapsed": false,
     "input": [
      "saccades_dict['04_22_0005']=[(0,6,110,'R','A'),(2,2,160,'R','A'),\n",
      "                             (3,3,230,'L','A'),(0,16,535,'R','A'),\n",
      "                             (3,16,160,'L','B'),]"
     ],
     "language": "python",
     "metadata": {},
     "outputs": [],
     "prompt_number": 33
    },
    {
     "cell_type": "code",
     "collapsed": false,
     "input": [
      "saccades_dict['04_10_0004']=[(3,4,415,'L','A'),] # possibly more saccades\n",
      "# suppression, or at least a smaller saccade? very exciting!!"
     ],
     "language": "python",
     "metadata": {},
     "outputs": [],
     "prompt_number": 34
    },
    {
     "cell_type": "code",
     "collapsed": false,
     "input": [
      "saccades_dict['04_10_0003']=[(0,1,450,'R','B'),(0,4,250,'R','A')] \n",
      "## also looks like suppression!!! very exciting!!"
     ],
     "language": "python",
     "metadata": {},
     "outputs": [],
     "prompt_number": 35
    },
    {
     "cell_type": "code",
     "collapsed": false,
     "input": [
      "saccades_dict['03_30_0000']=[(0,24,300,'R','A'),\n",
      "                             (1,21,400,'L','C'),(1,30,300,'R','A'),\n",
      "                             (2,21,400,'L','B'),(2,32,300,'R','A'),\n",
      "                             (3,4,400,'L','A'),(3,6,425,'L','B'),\n",
      "                             (3,8,200,'R','A'),(3,12,100,'R','A')] "
     ],
     "language": "python",
     "metadata": {},
     "outputs": [],
     "prompt_number": 36
    },
    {
     "cell_type": "code",
     "collapsed": false,
     "input": [
      "saccades_dict['03_30_0001']=[(0,43,325,'R','A'),(1,42,460,'L','A'),\n",
      "                             (2,41,200,'L','A'),(3,2,300,'R','A'),] #good. note the extra trials"
     ],
     "language": "python",
     "metadata": {},
     "outputs": [],
     "prompt_number": 37
    },
    {
     "cell_type": "code",
     "collapsed": false,
     "input": [
      "saccades_dict['04_01_0001']=[(0,9,325,'R','A'),(0,25,550,'L','A'),\n",
      "                             (1,9,175,'L','A'),(1,11,150,'R','A'),\n",
      "                             (1,24,535,'L','A'),(2,10,500,'R','A'),\n",
      "                             ] \n",
      "#no false -s, but missing some?\n",
      "#0,25 is nice!!"
     ],
     "language": "python",
     "metadata": {},
     "outputs": [],
     "prompt_number": 38
    },
    {
     "cell_type": "code",
     "collapsed": false,
     "input": [
      "saccades_dict['04_01_0002']=[(0,23,550,'L','A'),(1,1,410,'L','A'),\n",
      "                             (1,10,500,'R','A'),(2,0,380,'R','A'),\n",
      "                             (2,27,360,'L','A'),\n",
      "                             (3,5,300,'L','A'),(3,10,450,'L','A'),\n",
      "                             (3,29,480,'R','A')] "
     ],
     "language": "python",
     "metadata": {},
     "outputs": [],
     "prompt_number": 39
    },
    {
     "cell_type": "code",
     "collapsed": false,
     "input": [
      "# underwhelming.\n",
      "#\n",
      "#saccades_dict['04_02_0000']=[(1,17,550,'L','A'),(2,8,550,'L','A'),\n",
      "#                             (2,20,550,'L','A'),(2,35,550,'L','A'),\n",
      "#                             (3,24,550,'L','A')] #good"
     ],
     "language": "python",
     "metadata": {},
     "outputs": [],
     "prompt_number": 40
    },
    {
     "cell_type": "code",
     "collapsed": false,
     "input": [
      "#blah\n",
      "#saccades_dict['04_02_0006']=[(1,9,550,'L','A'),(1,25,550,'L','A'),\n",
      "#                             (2,3,550,'L','A'),(2,16,550,'L','A'),\n",
      "#                             (3,10,550,'L','A'),(3,27,550,'L','A')] "
     ],
     "language": "python",
     "metadata": {},
     "outputs": [],
     "prompt_number": 41
    },
    {
     "cell_type": "code",
     "collapsed": false,
     "input": [
      "saccades_dict['04_10_0002']=[(0,9,325,'R','A'),(0,16,235,'L','A'),\n",
      "                             (0,5,300,'L','B'),(0,22,290,'L','B'),\n",
      "                             (0,26,170,'R','B'),(1,42,510,'R','A'),\n",
      "                             (1,30,190,'L','B'),(1,23,525,'L','A'),\n",
      "                             (2,17,170,'L','A'),(2,16,250,'L','B'),\n",
      "                             (2,19,460,'L','A'),(2,25,170,'L'),\n",
      "                             (3,31,530,'R','A'),(3,24,250,'L','A'),\n",
      "                             (3,22,335,'R','A'),\n",
      "                             (0,15,416,'L','A'),(0,21,170,'L','A'),\n",
      "                             (0,25,300,'L','A'),(1,34,475,'L','A'),\n",
      "                             (1,30,180,'L','A'),(1,24,300,'R','A'),\n",
      "                             (1,21,230,'R','A'),(1,6,500,'L','A'),\n",
      "                             (1,8,220,'L','A'),(1,9,250,'L','A'),\n",
      "                             (1,12,330,'R','A'),(2,12,170,'L'),\n",
      "                             (1,18,340,'L','A'),(2,28,315,'L'),\n",
      "                             (2,33,320,'L','A'),\n",
      "                             (3,42,315,'L','A'),(3,32,120,'L','A'),\n",
      "                             (3,20,540,'L','A')] \n",
      "# there are a lot more saccades I need to consider, especially for cnd 2\n",
      "# shift the saccade start times here -- now considering the returning\n",
      "# phases"
     ],
     "language": "python",
     "metadata": {},
     "outputs": [],
     "prompt_number": 42
    },
    {
     "cell_type": "code",
     "collapsed": false,
     "input": [
      "# plot one fly\n",
      "for f_name in ['2015_04_10_0005']:\n",
      "    fly = Spot_Saccadic_Supression(path_name + f_name)\n",
      "    fly.process_fly()\n",
      "    title = f_name\n",
      "    \n",
      "    #fly.plot_wba_by_cnd_y_offset(title_txt=title)\n",
      "    \n",
      "    fly.plot_wba_by_cnd_y_offset(title_txt=title,trs_to_mark=saccades_dict[f_name[5:]])\n",
      "    #fly.plot_wba_by_cnd(title_txt=title)\n",
      "    \n",
      "    "
     ],
     "language": "python",
     "metadata": {},
     "outputs": [],
     "prompt_number": 110
    },
    {
     "cell_type": "code",
     "collapsed": false,
     "input": [
      "plt.close('all')"
     ],
     "language": "python",
     "metadata": {},
     "outputs": [],
     "prompt_number": 111
    },
    {
     "cell_type": "code",
     "collapsed": false,
     "input": [
      "saccade_info, saccade_and_control_traces = get_saccade_and_control_traces(saccades_dict)"
     ],
     "language": "python",
     "metadata": {},
     "outputs": [
      {
       "output_type": "stream",
       "stream": "stdout",
       "text": [
        "n saccades = 125\n",
        "04_22_0012\n",
        "04_22_0011"
       ]
      },
      {
       "output_type": "stream",
       "stream": "stdout",
       "text": [
        "\n",
        "04_22_0010"
       ]
      },
      {
       "output_type": "stream",
       "stream": "stdout",
       "text": [
        "\n",
        "04_22_0008"
       ]
      },
      {
       "output_type": "stream",
       "stream": "stdout",
       "text": [
        "\n",
        "04_22_0009"
       ]
      },
      {
       "output_type": "stream",
       "stream": "stdout",
       "text": [
        "\n",
        "03_30_0001"
       ]
      },
      {
       "output_type": "stream",
       "stream": "stdout",
       "text": [
        "\n",
        "04_22_0005"
       ]
      },
      {
       "output_type": "stream",
       "stream": "stdout",
       "text": [
        "\n",
        "04_16_0002"
       ]
      },
      {
       "output_type": "stream",
       "stream": "stdout",
       "text": [
        "\n",
        "04_16_0000"
       ]
      },
      {
       "output_type": "stream",
       "stream": "stdout",
       "text": [
        "\n",
        "04_01_0001"
       ]
      },
      {
       "output_type": "stream",
       "stream": "stdout",
       "text": [
        "\n",
        "04_01_0002"
       ]
      },
      {
       "output_type": "stream",
       "stream": "stdout",
       "text": [
        "\n",
        "04_10_0005"
       ]
      },
      {
       "output_type": "stream",
       "stream": "stdout",
       "text": [
        "\n",
        "04_10_0004"
       ]
      },
      {
       "output_type": "stream",
       "stream": "stdout",
       "text": [
        "\n",
        "04_10_0007"
       ]
      },
      {
       "output_type": "stream",
       "stream": "stdout",
       "text": [
        "\n",
        "04_10_0006"
       ]
      },
      {
       "output_type": "stream",
       "stream": "stdout",
       "text": [
        "\n",
        "03_30_0000"
       ]
      },
      {
       "output_type": "stream",
       "stream": "stdout",
       "text": [
        "\n",
        "04_10_0000"
       ]
      },
      {
       "output_type": "stream",
       "stream": "stdout",
       "text": [
        "\n",
        "04_10_0003"
       ]
      },
      {
       "output_type": "stream",
       "stream": "stdout",
       "text": [
        "\n",
        "04_10_0002"
       ]
      },
      {
       "output_type": "stream",
       "stream": "stdout",
       "text": [
        "\n"
       ]
      }
     ],
     "prompt_number": 34
    },
    {
     "cell_type": "code",
     "collapsed": false,
     "input": [
      "# Now previous and post saccade traces may also have saccades -- improve code for this"
     ],
     "language": "python",
     "metadata": {},
     "outputs": [],
     "prompt_number": 99
    },
    {
     "cell_type": "code",
     "collapsed": false,
     "input": [
      "plot_saccade_traces_pre_pos_y_offset(saccade_info, saccade_and_control_traces)"
     ],
     "language": "python",
     "metadata": {},
     "outputs": [],
     "prompt_number": 156
    },
    {
     "cell_type": "code",
     "collapsed": false,
     "input": [
      "plt.close('all')"
     ],
     "language": "python",
     "metadata": {},
     "outputs": [],
     "prompt_number": 155
    },
    {
     "cell_type": "code",
     "collapsed": false,
     "input": [
      "# looks nice. now modify this to show saccades in different \n",
      "# intervals before the saccadic turns\n",
      "#\n",
      "# 0:350:50 "
     ],
     "language": "python",
     "metadata": {},
     "outputs": [],
     "prompt_number": 71
    },
    {
     "cell_type": "code",
     "collapsed": false,
     "input": [
      "# hmm, I need to account for the different baseline positions\n",
      "# following a saccade. start by just substracting the\n",
      "# mean activity just before the saccade window"
     ],
     "language": "python",
     "metadata": {},
     "outputs": [],
     "prompt_number": 72
    },
    {
     "cell_type": "code",
     "collapsed": false,
     "input": [
      "# add a window for saccade times\n",
      "#\n",
      "# show normalization window periods\n",
      "#\n",
      "# show population stes\n",
      "#"
     ],
     "language": "python",
     "metadata": {},
     "outputs": [],
     "prompt_number": 45
    },
    {
     "cell_type": "code",
     "collapsed": false,
     "input": [
      "plt.close('all')"
     ],
     "language": "python",
     "metadata": {},
     "outputs": [],
     "prompt_number": 121
    },
    {
     "cell_type": "code",
     "collapsed": false,
     "input": [
      "plot_saccade_traces_pre_pos_y_offset_time_sorted(saccade_info, \n",
      "                                                 saccade_and_control_traces,\n",
      "                                                 -200,-100)"
     ],
     "language": "python",
     "metadata": {},
     "outputs": [],
     "prompt_number": 124
    },
    {
     "cell_type": "code",
     "collapsed": false,
     "input": [
      "plot_saccade_traces_pre_pos_y_offset_time_sorted(saccade_info, \n",
      "                                                 saccade_and_control_traces,\n",
      "                                                 -100,-0)"
     ],
     "language": "python",
     "metadata": {},
     "outputs": [],
     "prompt_number": 125
    },
    {
     "cell_type": "code",
     "collapsed": false,
     "input": [
      "plot_saccade_traces_pre_pos_y_offset_time_sorted(saccade_info, \n",
      "                                                 saccade_and_control_traces,\n",
      "                                                 -150,-50)"
     ],
     "language": "python",
     "metadata": {},
     "outputs": [],
     "prompt_number": 126
    },
    {
     "cell_type": "code",
     "collapsed": false,
     "input": [
      "plot_saccade_traces_pre_pos_y_offset_time_sorted(saccade_info, \n",
      "                                                 saccade_and_control_traces,\n",
      "                                                 -300,-200)"
     ],
     "language": "python",
     "metadata": {},
     "outputs": [],
     "prompt_number": 127
    },
    {
     "cell_type": "code",
     "collapsed": false,
     "input": [
      "plot_saccade_traces_pre_pos_y_offset_time_sorted(saccade_info, \n",
      "                                                 saccade_and_control_traces,\n",
      "                                                 -400,-300)"
     ],
     "language": "python",
     "metadata": {},
     "outputs": [],
     "prompt_number": 128
    },
    {
     "cell_type": "code",
     "collapsed": false,
     "input": [
      "plot_saccade_traces_pre_pos_y_offset_time_sorted(saccade_info, \n",
      "                                                 saccade_and_control_traces,\n",
      "                                                 -500,-400)"
     ],
     "language": "python",
     "metadata": {},
     "outputs": [],
     "prompt_number": 129
    },
    {
     "cell_type": "code",
     "collapsed": false,
     "input": [
      "plot_saccade_traces_pre_pos_y_offset_time_sorted(saccade_info, \n",
      "                                                 saccade_and_control_traces,\n",
      "                                                 -100,-50)"
     ],
     "language": "python",
     "metadata": {},
     "outputs": [],
     "prompt_number": 130
    },
    {
     "cell_type": "code",
     "collapsed": false,
     "input": [
      "plot_saccade_traces_pre_pos_y_offset_time_sorted(saccade_info, \n",
      "                                                 saccade_and_control_traces,\n",
      "                                                 -50,-0)"
     ],
     "language": "python",
     "metadata": {},
     "outputs": [],
     "prompt_number": 131
    },
    {
     "cell_type": "code",
     "collapsed": false,
     "input": [],
     "language": "python",
     "metadata": {},
     "outputs": []
    }
   ],
   "metadata": {}
  }
 ]
}