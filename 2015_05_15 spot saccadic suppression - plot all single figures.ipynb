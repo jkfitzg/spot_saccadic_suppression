{
 "metadata": {
  "name": "",
  "signature": "sha256:b072d8f3783bbf1b782cac647f6c679791e96c64ab26cbe3c0f59dca874113bb"
 },
 "nbformat": 3,
 "nbformat_minor": 0,
 "worksheets": [
  {
   "cells": [
    {
     "cell_type": "code",
     "collapsed": false,
     "input": [
      "# plot all figures for individual flies\n",
      "#     -- overlaid trials\n",
      "#     -- y offset trials + marked saccades\n",
      "#          figures with anotated saccades uniquely named\n"
     ],
     "language": "python",
     "metadata": {},
     "outputs": [],
     "prompt_number": 2
    },
    {
     "cell_type": "code",
     "collapsed": false,
     "input": [
      "# update figures from before lab meeting\n",
      "# updates: \n",
      "#  - showing flash responses \n",
      "#  - better filtering\n",
      "#  - compressed whitespaces\n",
      "#  - include genotype\n",
      "#  - size/proportion for slides\n",
      "\n",
      "# later? \n",
      "#  - show spot on -- from load to panels, ~300 ms. \n",
      "#      I need a photodiode for this?\n",
      "#  - move spot on the left figures to the left, but\n",
      "#      will this make my saccade detection annoying?     \n"
     ],
     "language": "python",
     "metadata": {},
     "outputs": [],
     "prompt_number": 3
    },
    {
     "cell_type": "code",
     "collapsed": false,
     "input": [
      "%matplotlib qt"
     ],
     "language": "python",
     "metadata": {},
     "outputs": [],
     "prompt_number": 4
    },
    {
     "cell_type": "code",
     "collapsed": false,
     "input": [
      "cd /Users/jamie/GitHub/spot_saccadic_suppression"
     ],
     "language": "python",
     "metadata": {},
     "outputs": [
      {
       "output_type": "stream",
       "stream": "stdout",
       "text": [
        "/Users/jamie/GitHub/spot_saccadic_suppression\n"
       ]
      }
     ],
     "prompt_number": 5
    },
    {
     "cell_type": "code",
     "collapsed": false,
     "input": [
      "%load_ext autoreload\n",
      "%autoreload 2\n",
      "from spot_saccadic_supression import *"
     ],
     "language": "python",
     "metadata": {},
     "outputs": [],
     "prompt_number": 6
    },
    {
     "cell_type": "code",
     "collapsed": false,
     "input": [
      "path_name = '/Users/jamie/Dropbox/maimon lab - behavioral data/'"
     ],
     "language": "python",
     "metadata": {},
     "outputs": [],
     "prompt_number": 7
    },
    {
     "cell_type": "code",
     "collapsed": false,
     "input": [
      "saccadic_suppression_flies = pd.read_pickle('saccadic_suppression_flies.save')"
     ],
     "language": "python",
     "metadata": {},
     "outputs": [],
     "prompt_number": 8
    },
    {
     "cell_type": "code",
     "collapsed": false,
     "input": [
      "saccadic_suppression_flies.tail()"
     ],
     "language": "python",
     "metadata": {},
     "outputs": [
      {
       "html": [
        "<div style=\"max-height:1000px;max-width:1500px;overflow:auto;\">\n",
        "<table border=\"1\" class=\"dataframe\">\n",
        "  <thead>\n",
        "    <tr style=\"text-align: right;\">\n",
        "      <th></th>\n",
        "      <th>filename</th>\n",
        "      <th>genotype</th>\n",
        "      <th>two s static spot</th>\n",
        "      <th>strokelitude</th>\n",
        "    </tr>\n",
        "  </thead>\n",
        "  <tbody>\n",
        "    <tr>\n",
        "      <th>95</th>\n",
        "      <td> 2015_05_12_0014</td>\n",
        "      <td> c290 x 2xegfp, NP background</td>\n",
        "      <td> False</td>\n",
        "      <td> False</td>\n",
        "    </tr>\n",
        "    <tr>\n",
        "      <th>96</th>\n",
        "      <td> 2015_05_12_0015</td>\n",
        "      <td> c290 x 2xegfp, NP background</td>\n",
        "      <td> False</td>\n",
        "      <td> False</td>\n",
        "    </tr>\n",
        "    <tr>\n",
        "      <th>97</th>\n",
        "      <td> 2015_05_12_0016</td>\n",
        "      <td> c290 x 2xegfp, NP background</td>\n",
        "      <td> False</td>\n",
        "      <td> False</td>\n",
        "    </tr>\n",
        "    <tr>\n",
        "      <th>98</th>\n",
        "      <td> 2015_05_12_0017</td>\n",
        "      <td> c290 x 2xegfp, NP background</td>\n",
        "      <td> False</td>\n",
        "      <td> False</td>\n",
        "    </tr>\n",
        "    <tr>\n",
        "      <th>99</th>\n",
        "      <td> 2015_05_12_0018</td>\n",
        "      <td> c290 x 2xegfp, NP background</td>\n",
        "      <td> False</td>\n",
        "      <td> False</td>\n",
        "    </tr>\n",
        "  </tbody>\n",
        "</table>\n",
        "</div>"
       ],
       "metadata": {},
       "output_type": "pyout",
       "prompt_number": 9,
       "text": [
        "           filename                      genotype two s static spot  \\\n",
        "95  2015_05_12_0014  c290 x 2xegfp, NP background             False   \n",
        "96  2015_05_12_0015  c290 x 2xegfp, NP background             False   \n",
        "97  2015_05_12_0016  c290 x 2xegfp, NP background             False   \n",
        "98  2015_05_12_0017  c290 x 2xegfp, NP background             False   \n",
        "99  2015_05_12_0018  c290 x 2xegfp, NP background             False   \n",
        "\n",
        "   strokelitude  \n",
        "95        False  \n",
        "96        False  \n",
        "97        False  \n",
        "98        False  \n",
        "99        False  "
       ]
      }
     ],
     "prompt_number": 9
    },
    {
     "cell_type": "code",
     "collapsed": false,
     "input": [
      "# plot all overlaid trials with 48 hz low-pass \n",
      "# butterworth filter, with special cases for files with\n",
      "# longer static spots or wings tracked in strokelitude"
     ],
     "language": "python",
     "metadata": {},
     "outputs": [],
     "prompt_number": 10
    },
    {
     "cell_type": "code",
     "collapsed": false,
     "input": [
      "# plot each fly\n",
      "for i in saccadic_suppression_flies.index.values[]:\n",
      "    if i%10 == 0:\n",
      "        print i\n",
      "    f_name = saccadic_suppression_flies.ix[i,'filename']\n",
      "    genotype = saccadic_suppression_flies.ix[i,'genotype']\n",
      "    long_static_spot = saccadic_suppression_flies.ix[i,'two s static spot']\n",
      "    strokelitude_tracking = saccadic_suppression_flies.ix[i,'strokelitude']\n",
      "    \n",
      "    if strokelitude_tracking:\n",
      "        fly = Spot_Saccadic_Supression(path_name+f_name,\n",
      "                                       protocol='optical tracking')   \n",
      "        title = f_name + '  ' + genotype + '   strokelitude'\n",
      "    else:\n",
      "        fly = Spot_Saccadic_Supression(path_name+f_name)\n",
      "        title = f_name + '  ' + genotype\n",
      "    \n",
      "    fly.process_fly()\n",
      "    \n",
      "    if long_static_spot: \n",
      "        title = title + '   2s static spot'\n",
      "        fly.plot_wba_by_cnd(title_txt=title, long_static_spot=True) \n",
      "    else: \n",
      "        fly.plot_wba_by_cnd(title_txt=title)\n",
      "    #plt.close('all')"
     ],
     "language": "python",
     "metadata": {},
     "outputs": [
      {
       "output_type": "stream",
       "stream": "stderr",
       "text": [
        "/usr/local/lib/python2.7/site-packages/numpy/lib/nanfunctions.py:598: RuntimeWarning: Mean of empty slice\n",
        "  warnings.warn(\"Mean of empty slice\", RuntimeWarning)\n"
       ]
      }
     ],
     "prompt_number": 12
    },
    {
     "cell_type": "code",
     "collapsed": false,
     "input": [
      "# now plot the y-offset single trial traces\n",
      "# for every fly, marking saccades to consider"
     ],
     "language": "python",
     "metadata": {},
     "outputs": [],
     "prompt_number": 13
    },
    {
     "cell_type": "code",
     "collapsed": false,
     "input": [
      "# load the saccades dictionary, which was made in \n",
      "# 2015_05_15 spot saccadic suppression - build saccades dictionary.ipynb\n",
      "import pickle\n",
      "with open('saccades_dict.save','rb') as handle:\n",
      "   saccades_dict = pickle.load(handle)"
     ],
     "language": "python",
     "metadata": {},
     "outputs": [],
     "prompt_number": 14
    },
    {
     "cell_type": "code",
     "collapsed": false,
     "input": [
      "# loop through all flies in my experiments data structure,\n",
      "# showing marked saccades if present\n",
      "\n",
      "for i in saccadic_suppression_flies.index.values[]:\n",
      "    if i%10 == 0:\n",
      "        print i\n",
      "    \n",
      "    # get experiment details from my dataframe ___________________________\n",
      "    f_name = saccadic_suppression_flies.ix[i,'filename']\n",
      "    genotype = saccadic_suppression_flies.ix[i,'genotype']\n",
      "    long_static_spot = saccadic_suppression_flies.ix[i,'two s static spot']\n",
      "    strokelitude_tracking = saccadic_suppression_flies.ix[i,'strokelitude']\n",
      "    \n",
      "    # initialize this fly's data structure ___________________________\n",
      "    if strokelitude_tracking:\n",
      "        fly = Spot_Saccadic_Supression(path_name+f_name,\n",
      "                                       protocol='optical tracking')   \n",
      "        title = f_name + '  ' + genotype + '   strokelitude'\n",
      "    else:\n",
      "        fly = Spot_Saccadic_Supression(path_name+f_name)\n",
      "        title = f_name + '  ' + genotype\n",
      "    fly.process_fly()\n",
      "    \n",
      "    # determine whether this experiment \n",
      "    # contains annotated saccades ___________________________\n",
      "    this_key = f_name[5:]\n",
      "    contains_saccades = this_key in saccades_dict\n",
      "    \n",
      "    # plot figures with single traces ___________________________\n",
      "    if long_static_spot: \n",
      "        title = title + '   2s static spot'\n",
      "        fly.plot_wba_by_cnd_y_offset(title_txt=title,long_static_spot=True) \n",
      "    elif contains_saccades:\n",
      "        fly.plot_wba_by_cnd_y_offset(title_txt=title,\n",
      "                                     trs_to_mark=saccades_dict[this_key])\n",
      "    else: \n",
      "        fly.plot_wba_by_cnd_y_offset(title_txt=title)\n",
      "    \n",
      "    plt.close('all')"
     ],
     "language": "python",
     "metadata": {},
     "outputs": [],
     "prompt_number": 16
    }
   ],
   "metadata": {}
  }
 ]
}