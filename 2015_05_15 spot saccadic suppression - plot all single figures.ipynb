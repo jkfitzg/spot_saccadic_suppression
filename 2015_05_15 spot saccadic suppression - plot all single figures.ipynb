{
 "metadata": {
  "name": "",
  "signature": "sha256:8a9d7c379530518e9f9a39f01e19bfccd2f2b861c48fbdced2c493ab282077b5"
 },
 "nbformat": 3,
 "nbformat_minor": 0,
 "worksheets": [
  {
   "cells": [
    {
     "cell_type": "code",
     "collapsed": false,
     "input": [
      "# plot all figures for individual flies\n",
      "#     -- overlaid trials\n",
      "#     -- y offset trials + marked saccades\n",
      "#          figures with anotated saccades uniquely named\n"
     ],
     "language": "python",
     "metadata": {},
     "outputs": [],
     "prompt_number": 1
    },
    {
     "cell_type": "code",
     "collapsed": false,
     "input": [
      "# update figures from before lab meeting\n",
      "# updates: \n",
      "#  - showing flash responses \n",
      "#  - better filtering\n",
      "#  - compressed whitespaces\n",
      "#  - include genotype\n",
      "#  - size/proportion for slides\n",
      "\n",
      "# later? \n",
      "#  - show spot on -- from load to panels, ~300 ms. \n",
      "#      I need a photodiode for this?\n",
      "#  - move spot on the left figures to the left, but\n",
      "#      will this make my saccade detection annoying?     \n"
     ],
     "language": "python",
     "metadata": {},
     "outputs": [],
     "prompt_number": 2
    },
    {
     "cell_type": "code",
     "collapsed": false,
     "input": [
      "%matplotlib qt"
     ],
     "language": "python",
     "metadata": {},
     "outputs": [],
     "prompt_number": 3
    },
    {
     "cell_type": "code",
     "collapsed": false,
     "input": [
      "cd /Users/jamie/GitHub/spot_saccadic_suppression"
     ],
     "language": "python",
     "metadata": {},
     "outputs": [
      {
       "output_type": "stream",
       "stream": "stdout",
       "text": [
        "/Users/jamie/GitHub/spot_saccadic_suppression\n"
       ]
      }
     ],
     "prompt_number": 4
    },
    {
     "cell_type": "code",
     "collapsed": false,
     "input": [
      "%load_ext autoreload\n",
      "%autoreload 2\n",
      "from spot_saccadic_supression import *"
     ],
     "language": "python",
     "metadata": {},
     "outputs": [],
     "prompt_number": 5
    },
    {
     "cell_type": "code",
     "collapsed": false,
     "input": [
      "path_name = '/Users/jamie/Dropbox/maimon lab - behavioral data/'"
     ],
     "language": "python",
     "metadata": {},
     "outputs": [],
     "prompt_number": 6
    },
    {
     "cell_type": "code",
     "collapsed": false,
     "input": [
      "saccadic_suppression_flies = pd.read_pickle('saccadic_suppression_flies.save')"
     ],
     "language": "python",
     "metadata": {},
     "outputs": [],
     "prompt_number": 19
    },
    {
     "cell_type": "code",
     "collapsed": false,
     "input": [
      "saccadic_suppression_flies.ix[100:,:]"
     ],
     "language": "python",
     "metadata": {},
     "outputs": [
      {
       "html": [
        "<div style=\"max-height:1000px;max-width:1500px;overflow:auto;\">\n",
        "<table border=\"1\" class=\"dataframe\">\n",
        "  <thead>\n",
        "    <tr style=\"text-align: right;\">\n",
        "      <th></th>\n",
        "      <th>filename</th>\n",
        "      <th>genotype</th>\n",
        "      <th>two s static spot</th>\n",
        "      <th>strokelitude</th>\n",
        "    </tr>\n",
        "  </thead>\n",
        "  <tbody>\n",
        "    <tr>\n",
        "      <th>100</th>\n",
        "      <td> 2015_05_22_0014</td>\n",
        "      <td> c290 x 2xegfp, NP background</td>\n",
        "      <td> False</td>\n",
        "      <td> False</td>\n",
        "    </tr>\n",
        "    <tr>\n",
        "      <th>101</th>\n",
        "      <td> 2015_05_22_0015</td>\n",
        "      <td> c290 x 2xegfp, NP background</td>\n",
        "      <td> False</td>\n",
        "      <td> False</td>\n",
        "    </tr>\n",
        "    <tr>\n",
        "      <th>102</th>\n",
        "      <td> 2015_05_22_0016</td>\n",
        "      <td> c290 x 2xegfp, NP background</td>\n",
        "      <td> False</td>\n",
        "      <td> False</td>\n",
        "    </tr>\n",
        "    <tr>\n",
        "      <th>103</th>\n",
        "      <td> 2015_05_22_0017</td>\n",
        "      <td> c290 x 2xegfp, NP background</td>\n",
        "      <td> False</td>\n",
        "      <td> False</td>\n",
        "    </tr>\n",
        "    <tr>\n",
        "      <th>104</th>\n",
        "      <td> 2015_05_22_0018</td>\n",
        "      <td> c290 x 2xegfp, NP background</td>\n",
        "      <td> False</td>\n",
        "      <td> False</td>\n",
        "    </tr>\n",
        "    <tr>\n",
        "      <th>105</th>\n",
        "      <td> 2015_05_22_0019</td>\n",
        "      <td> c290 x 2xegfp, NP background</td>\n",
        "      <td> False</td>\n",
        "      <td> False</td>\n",
        "    </tr>\n",
        "    <tr>\n",
        "      <th>106</th>\n",
        "      <td> 2015_05_22_0020</td>\n",
        "      <td> c290 x 2xegfp, NP background</td>\n",
        "      <td> False</td>\n",
        "      <td> False</td>\n",
        "    </tr>\n",
        "    <tr>\n",
        "      <th>107</th>\n",
        "      <td> 2015_05_22_0021</td>\n",
        "      <td> c290 x 2xegfp, NP background</td>\n",
        "      <td> False</td>\n",
        "      <td> False</td>\n",
        "    </tr>\n",
        "    <tr>\n",
        "      <th>108</th>\n",
        "      <td> 2015_05_22_0022</td>\n",
        "      <td> c290 x 2xegfp, NP background</td>\n",
        "      <td> False</td>\n",
        "      <td> False</td>\n",
        "    </tr>\n",
        "    <tr>\n",
        "      <th>109</th>\n",
        "      <td> 2015_05_22_0023</td>\n",
        "      <td> c290 x 2xegfp, NP background</td>\n",
        "      <td> False</td>\n",
        "      <td> False</td>\n",
        "    </tr>\n",
        "    <tr>\n",
        "      <th>110</th>\n",
        "      <td> 2015_05_22_0024</td>\n",
        "      <td> c290 x 2xegfp, NP background</td>\n",
        "      <td> False</td>\n",
        "      <td> False</td>\n",
        "    </tr>\n",
        "    <tr>\n",
        "      <th>111</th>\n",
        "      <td> 2015_05_22_0025</td>\n",
        "      <td> c290 x 2xegfp, NP background</td>\n",
        "      <td> False</td>\n",
        "      <td> False</td>\n",
        "    </tr>\n",
        "    <tr>\n",
        "      <th>112</th>\n",
        "      <td> 2015_05_22_0026</td>\n",
        "      <td> c290 x 2xegfp, NP background</td>\n",
        "      <td> False</td>\n",
        "      <td> False</td>\n",
        "    </tr>\n",
        "  </tbody>\n",
        "</table>\n",
        "</div>"
       ],
       "metadata": {},
       "output_type": "pyout",
       "prompt_number": 20,
       "text": [
        "            filename                      genotype two s static spot  \\\n",
        "100  2015_05_22_0014  c290 x 2xegfp, NP background             False   \n",
        "101  2015_05_22_0015  c290 x 2xegfp, NP background             False   \n",
        "102  2015_05_22_0016  c290 x 2xegfp, NP background             False   \n",
        "103  2015_05_22_0017  c290 x 2xegfp, NP background             False   \n",
        "104  2015_05_22_0018  c290 x 2xegfp, NP background             False   \n",
        "105  2015_05_22_0019  c290 x 2xegfp, NP background             False   \n",
        "106  2015_05_22_0020  c290 x 2xegfp, NP background             False   \n",
        "107  2015_05_22_0021  c290 x 2xegfp, NP background             False   \n",
        "108  2015_05_22_0022  c290 x 2xegfp, NP background             False   \n",
        "109  2015_05_22_0023  c290 x 2xegfp, NP background             False   \n",
        "110  2015_05_22_0024  c290 x 2xegfp, NP background             False   \n",
        "111  2015_05_22_0025  c290 x 2xegfp, NP background             False   \n",
        "112  2015_05_22_0026  c290 x 2xegfp, NP background             False   \n",
        "\n",
        "    strokelitude  \n",
        "100        False  \n",
        "101        False  \n",
        "102        False  \n",
        "103        False  \n",
        "104        False  \n",
        "105        False  \n",
        "106        False  \n",
        "107        False  \n",
        "108        False  \n",
        "109        False  \n",
        "110        False  \n",
        "111        False  \n",
        "112        False  "
       ]
      }
     ],
     "prompt_number": 20
    },
    {
     "cell_type": "code",
     "collapsed": false,
     "input": [
      "# plot all overlaid trials with 48 hz low-pass \n",
      "# butterworth filter, with special cases for files with\n",
      "# longer static spots or wings tracked in strokelitude"
     ],
     "language": "python",
     "metadata": {},
     "outputs": [],
     "prompt_number": 21
    },
    {
     "cell_type": "code",
     "collapsed": false,
     "input": [
      "print fly.fname"
     ],
     "language": "python",
     "metadata": {},
     "outputs": [
      {
       "output_type": "stream",
       "stream": "stdout",
       "text": [
        "/Users/jamie/Dropbox/maimon lab - behavioral data/2015_05_22_0014.abf\n"
       ]
      }
     ],
     "prompt_number": 22
    },
    {
     "cell_type": "code",
     "collapsed": false,
     "input": [
      "# plot each fly\n",
      "for i in range(100,113):#saccadic_suppression_flies.index.values[]:\n",
      "    print i\n",
      "    f_name = saccadic_suppression_flies.ix[i,'filename']\n",
      "    genotype = saccadic_suppression_flies.ix[i,'genotype']\n",
      "    long_static_spot = saccadic_suppression_flies.ix[i,'two s static spot']\n",
      "    strokelitude_tracking = saccadic_suppression_flies.ix[i,'strokelitude']\n",
      "    \n",
      "    if strokelitude_tracking:\n",
      "        fly = Spot_Saccadic_Supression(path_name+f_name,\n",
      "                                       protocol='optical tracking')   \n",
      "        title = f_name + '  ' + genotype + '   strokelitude'\n",
      "    else:\n",
      "        fly = Spot_Saccadic_Supression(path_name+f_name)\n",
      "        title = f_name + '  ' + genotype\n",
      "    \n",
      "    fly.process_fly()\n",
      "    \n",
      "    if long_static_spot: \n",
      "        title = title + '   2s static spot'\n",
      "        fly.plot_wba_by_cnd(title_txt=title, long_static_spot=True) \n",
      "    else: \n",
      "        #fly.plot_wba_by_cnd(title_txt=title,wba_lim=[-4.5,4.5],filter_cutoff=24)\n",
      "        fly.plot_wba_by_cnd_y_offset(title_txt=title,filter_cutoff=48)\n",
      "    #plt.close('all')"
     ],
     "language": "python",
     "metadata": {},
     "outputs": [
      {
       "output_type": "stream",
       "stream": "stdout",
       "text": [
        "100\n",
        "101"
       ]
      },
      {
       "output_type": "stream",
       "stream": "stdout",
       "text": [
        "\n",
        "102"
       ]
      },
      {
       "output_type": "stream",
       "stream": "stdout",
       "text": [
        "\n",
        "103"
       ]
      },
      {
       "output_type": "stream",
       "stream": "stdout",
       "text": [
        "\n",
        "104"
       ]
      },
      {
       "output_type": "stream",
       "stream": "stdout",
       "text": [
        "\n",
        "105"
       ]
      },
      {
       "output_type": "stream",
       "stream": "stdout",
       "text": [
        "\n",
        "106"
       ]
      },
      {
       "output_type": "stream",
       "stream": "stdout",
       "text": [
        "\n",
        "107"
       ]
      },
      {
       "output_type": "stream",
       "stream": "stdout",
       "text": [
        "\n",
        "108"
       ]
      },
      {
       "output_type": "stream",
       "stream": "stdout",
       "text": [
        "\n",
        "109"
       ]
      },
      {
       "output_type": "stream",
       "stream": "stdout",
       "text": [
        "\n",
        "110"
       ]
      },
      {
       "output_type": "stream",
       "stream": "stdout",
       "text": [
        "\n",
        "111"
       ]
      },
      {
       "output_type": "stream",
       "stream": "stdout",
       "text": [
        "\n",
        "112"
       ]
      },
      {
       "output_type": "stream",
       "stream": "stdout",
       "text": [
        "\n"
       ]
      }
     ],
     "prompt_number": 48
    },
    {
     "cell_type": "code",
     "collapsed": false,
     "input": [
      "fly.plot_wba_by_cnd_y_offset(title_txt=title)"
     ],
     "language": "python",
     "metadata": {},
     "outputs": [],
     "prompt_number": 35
    },
    {
     "cell_type": "code",
     "collapsed": false,
     "input": [
      "plt.close('all')"
     ],
     "language": "python",
     "metadata": {},
     "outputs": [],
     "prompt_number": 46
    },
    {
     "cell_type": "code",
     "collapsed": false,
     "input": [
      "# now plot the y-offset single trial traces\n",
      "# for every fly, marking saccades to consider"
     ],
     "language": "python",
     "metadata": {},
     "outputs": [],
     "prompt_number": 13
    },
    {
     "cell_type": "code",
     "collapsed": false,
     "input": [
      "# load the saccades dictionary, which was made in \n",
      "# 2015_05_15 spot saccadic suppression - build saccades dictionary.ipynb\n",
      "import pickle\n",
      "with open('saccades_dict.save','rb') as handle:\n",
      "   saccades_dict = pickle.load(handle)"
     ],
     "language": "python",
     "metadata": {},
     "outputs": [],
     "prompt_number": 14
    },
    {
     "cell_type": "code",
     "collapsed": false,
     "input": [
      "# loop through all flies in my experiments data structure,\n",
      "# showing marked saccades if present\n",
      "\n",
      "for i in saccadic_suppression_flies.index.values[]:\n",
      "    if i%10 == 0:\n",
      "        print i\n",
      "    \n",
      "    # get experiment details from my dataframe ___________________________\n",
      "    f_name = saccadic_suppression_flies.ix[i,'filename']\n",
      "    genotype = saccadic_suppression_flies.ix[i,'genotype']\n",
      "    long_static_spot = saccadic_suppression_flies.ix[i,'two s static spot']\n",
      "    strokelitude_tracking = saccadic_suppression_flies.ix[i,'strokelitude']\n",
      "    \n",
      "    # initialize this fly's data structure ___________________________\n",
      "    if strokelitude_tracking:\n",
      "        fly = Spot_Saccadic_Supression(path_name+f_name,\n",
      "                                       protocol='optical tracking')   \n",
      "        title = f_name + '  ' + genotype + '   strokelitude'\n",
      "    else:\n",
      "        fly = Spot_Saccadic_Supression(path_name+f_name)\n",
      "        title = f_name + '  ' + genotype\n",
      "    fly.process_fly()\n",
      "    \n",
      "    # determine whether this experiment \n",
      "    # contains annotated saccades ___________________________\n",
      "    this_key = f_name[5:]\n",
      "    contains_saccades = this_key in saccades_dict\n",
      "    \n",
      "    # plot figures with single traces ___________________________\n",
      "    if long_static_spot: \n",
      "        title = title + '   2s static spot'\n",
      "        fly.plot_wba_by_cnd_y_offset(title_txt=title,long_static_spot=True) \n",
      "    elif contains_saccades:\n",
      "        fly.plot_wba_by_cnd_y_offset(title_txt=title,\n",
      "                                     trs_to_mark=saccades_dict[this_key])\n",
      "    else: \n",
      "        fly.plot_wba_by_cnd_y_offset(title_txt=title)\n",
      "    \n",
      "    plt.close('all')"
     ],
     "language": "python",
     "metadata": {},
     "outputs": [],
     "prompt_number": 16
    }
   ],
   "metadata": {}
  }
 ]
}