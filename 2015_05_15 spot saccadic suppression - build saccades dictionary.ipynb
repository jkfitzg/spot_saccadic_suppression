{
 "metadata": {
  "name": "",
  "signature": "sha256:b2339b1c2bab6f999e72d661304e2100b9a0116741b0e87a206e20ada1ed408d"
 },
 "nbformat": 3,
 "nbformat_minor": 0,
 "worksheets": [
  {
   "cells": [
    {
     "cell_type": "code",
     "collapsed": false,
     "input": [
      "# Find all saccades, store in saccades_dict, pickle saccades_dict\n",
      "#\n",
      "# Now I'm manually identifying saccades, using the derivative of the \n",
      "# left minus right wing beat amplitude as a first pass. \n",
      "# Ideally this would be entirely automated, but the turn signal\n",
      "# is quite variable and saccade detection is subjective. \n",
      "#\n",
      "# I'm focusing on high-quality saccades, especially near the turn windows\n",
      "#\n",
      "# For now I'm skipping the experiments from strokelitude\n",
      "# and the two (versus one) second static spot trials because \n",
      "# the few useful saccades don't really make it worth the time\n",
      "# to add more code branches for these cases\n",
      "# \n",
      "# For each fly\n",
      "#   for each saccade get:  \n",
      "#     -- condition, tr #\n",
      "#     -- saccade start time -- by hand -- may later add a diff threshold\n",
      "#     -- saccade direction: left, right\n",
      "#     -- saccade grade: A, B, C \n",
      "#     -- later: saccade amplitude \n",
      "#"
     ],
     "language": "python",
     "metadata": {},
     "outputs": [],
     "prompt_number": 1
    },
    {
     "cell_type": "code",
     "collapsed": false,
     "input": [
      "%matplotlib qt"
     ],
     "language": "python",
     "metadata": {},
     "outputs": [],
     "prompt_number": 2
    },
    {
     "cell_type": "code",
     "collapsed": false,
     "input": [
      "cd /Users/jamie/GitHub/spot_saccadic_suppression"
     ],
     "language": "python",
     "metadata": {},
     "outputs": [
      {
       "output_type": "stream",
       "stream": "stdout",
       "text": [
        "/Users/jamie/GitHub/spot_saccadic_suppression\n"
       ]
      }
     ],
     "prompt_number": 3
    },
    {
     "cell_type": "code",
     "collapsed": false,
     "input": [
      "%load_ext autoreload\n",
      "%autoreload 2\n",
      "from spot_saccadic_supression import *"
     ],
     "language": "python",
     "metadata": {},
     "outputs": [],
     "prompt_number": 4
    },
    {
     "cell_type": "code",
     "collapsed": false,
     "input": [
      "path_name = '/Users/jamie/Dropbox/maimon lab - behavioral data/'"
     ],
     "language": "python",
     "metadata": {},
     "outputs": [],
     "prompt_number": 5
    },
    {
     "cell_type": "code",
     "collapsed": false,
     "input": [
      "saccades_dict = {} # initialize saccades_dictionary"
     ],
     "language": "python",
     "metadata": {},
     "outputs": [],
     "prompt_number": 6
    },
    {
     "cell_type": "raw",
     "metadata": {},
     "source": [
      "# skipped flies. some may be useful later.\n",
      "\n",
      "saccades_dict['04_16_0004']=[] #under sampled\n",
      "saccades_dict['04_16_0003']=[] # poor signal to noise\n",
      "saccades_dict['04_16_0001']=[] # poor signal to noise\n",
      "saccades_dict['04_16_0000']=[]  # mediocre signal to noise. may be able to get saccades\n",
      "\n",
      "# for cells with the longer static spot (from April 15)\n",
      "# analyze separately or shift by 1 s\n",
      "#I should shift the baseline window earlier for the long static spot trials\n",
      "saccades_dict['04_15_0005']=[] # messy, splotches \n",
      "saccades_dict['04_15_0004']=[] # some saccades, but I need to space these better 39:40\n",
      "saccades_dict['04_15_0003']=[] # adapted very quickly.\n",
      "\n",
      "# 04_15_0002 -- nice, but I need better visualizations\n",
      "# also try on _0004, 1, 0. skipping these for now\n",
      "saccades_dict['04_10_0008']=[] # only ~4 samples/rep\n",
      "# maybe I can salvage something from 04_10_0009 -- few trials, but nice\n",
      "saccades_dict['04_10_0006'] = [] # very few saccades\n",
      "\n",
      "# underwhelming.\n",
      "#\n",
      "#saccades_dict['04_02_0000']=[(1,17,550,'L','A'),(2,8,550,'L','A'),\n",
      "#                             (2,20,550,'L','A'),(2,35,550,'L','A'),\n",
      "#                             (3,24,550,'L','A')] \n",
      "#blah\n",
      "#saccades_dict['04_02_0006']=[(1,9,550,'L','A'),(1,25,550,'L','A'),\n",
      "#                             (2,3,550,'L','A'),(2,16,550,'L','A'),\n",
      "#                             (3,10,550,'L','A'),(3,27,550,'L','A')] \n",
      "\n"
     ]
    },
    {
     "cell_type": "code",
     "collapsed": false,
     "input": [
      "# for each saccade get:  \n",
      "#     -- condition, tr #\n",
      "#     -- saccade start time\n",
      "#     -- saccade direction: left, right\n",
      "#     -- saccade grade: A, B, C \n",
      "#\n",
      "# save saccade information in a dictionary in which the keys\n",
      "# are the experiments names, and each saccade's details are \n",
      "# stored in a tuple (cnd #, tr # within cnd, saccade direction, saccade grade)"
     ],
     "language": "python",
     "metadata": {},
     "outputs": [],
     "prompt_number": 7
    },
    {
     "cell_type": "code",
     "collapsed": false,
     "input": [
      "saccades_dict['05_05_0005'] = [(0,0,230,'R','A'),(0,2,200,'R','A'),\n",
      "                               (0,12,460,'L','A'),(0,16,180,'R','A'),\n",
      "                               (0,28,60,'R','A'),(0,33,165,'R','A'),\n",
      "                               (1,33,110,'L','A'),(1,30,400,'L','A'),\n",
      "                               (1,29,190,'R','A'),(1,19,130,'L','A'),\n",
      "                               (1,6,100,'L','A'),(2,4,430,'R','A'),\n",
      "                               (2,5,310,'R','A'),(2,32,220,'L','A'),\n",
      "                               (2,29,100,'L','A'),(2,32,190,'L','A'),\n",
      "                               (2,35,225,'L','A'),(2,36,265,'R','C'),\n",
      "                               (3,35,290,'R','C'),(3,33,300,'R','A'),\n",
      "                               (3,10,75,'R','A'),(3,4,275,'L','B'),]\n",
      "# --- post trial in same cnd has a saccade"
     ],
     "language": "python",
     "metadata": {},
     "outputs": [],
     "prompt_number": 8
    },
    {
     "cell_type": "code",
     "collapsed": false,
     "input": [
      "saccades_dict['05_05_0003'] = [(0,3,130,'L','A'),(1,0,400,'L','A'),\n",
      "                               (1,5,45,'L','A'),(2,3,370,'L','A'),\n",
      "                               (3,3,310,'L','A'),(2,8,310,'L','A'),\n",
      "                               (2,14,340,'R','A'),(2,16,465,'L','A'),\n",
      "                               (3,14,235,'L','A'),(0,19,175,'R','A'),\n",
      "                               (0,19,105,'R','A'),(2,19,105,'R','A'),\n",
      "                               (0,13,50,'R','B'),(1,12,60,'L','B'),\n",
      "                               (1,15,100,'L','B'),(1,16,100,'L','B'),\n",
      "                               (3,18,180,'R','B'),(2,9,50,'L','B'),\n",
      "                               (2,7,140,'L','B'),(1,7,50,'L','B')]"
     ],
     "language": "python",
     "metadata": {},
     "outputs": [],
     "prompt_number": 9
    },
    {
     "cell_type": "code",
     "collapsed": false,
     "input": [
      "saccades_dict['05_06_0006'] = [(2,5,330,'L','A'),(2,29,380,'L','A'),\n",
      "                               (0,12,25,'R','A'),(2,13,260,'R','A'),\n",
      "                               (3,17,290,'L','B'),(0,13,530,'R','A'),\n",
      "                               (3,14,165,'R','A'),(2,6,250,'R','A'),\n",
      "                               (0,4,90,'R','A'),(2,5,285,'L','A')]\n"
     ],
     "language": "python",
     "metadata": {},
     "outputs": [],
     "prompt_number": 10
    },
    {
     "cell_type": "code",
     "collapsed": false,
     "input": [
      "saccades_dict['05_06_0008'] = [(0,13,280,'L','A'),(1,19,135,'L','A'),\n",
      "                               (1,1,210,'R','A'),(2,0,330,'L','A'),\n",
      "                               (3,9,120,'R','A'),(3,14,250,'L','A'),\n",
      "                               (2,11,200,'L','A'),(1,14,455,'R','A')]"
     ],
     "language": "python",
     "metadata": {},
     "outputs": [],
     "prompt_number": 11
    },
    {
     "cell_type": "code",
     "collapsed": false,
     "input": [
      "saccades_dict['04_10_0007']=[(0,6,495,'R','B'),\\\n",
      "                             (3,13,500,'R','B')] \n",
      "# 0,6,495 here -- saccade close to turn time. is there a return signal?"
     ],
     "language": "python",
     "metadata": {},
     "outputs": [],
     "prompt_number": 12
    },
    {
     "cell_type": "code",
     "collapsed": false,
     "input": [
      "saccades_dict['04_10_0006']=[(1,3,270,'L','C'),\\\n",
      "                             (3,16,175,'L','C')] "
     ],
     "language": "python",
     "metadata": {},
     "outputs": [],
     "prompt_number": 13
    },
    {
     "cell_type": "code",
     "collapsed": false,
     "input": [
      "saccades_dict['04_16_0002']=[(0,3,430,'R','A'),(0,24,450,'L','B'),\\\n",
      "                             (1,10,585,'L','A'),(1,14,125,'R','A'),\\\n",
      "                             (1,19,500,'L','A'),\\\n",
      "                             (1,21,280,'R','B'),(2,17,320,'R','A'),\\\n",
      "                             (2,13,485,'R','A'),\n",
      "                             (3,22,425,'R','A')] "
     ],
     "language": "python",
     "metadata": {},
     "outputs": [],
     "prompt_number": 14
    },
    {
     "cell_type": "code",
     "collapsed": false,
     "input": [
      "saccades_dict['04_10_0005']=[(0,1,200,'L','A'),(0,9,380,'R','A'),\\\n",
      "                             (0,11,200,'R','A'),(2,11,115,'L','A'),\\\n",
      "                             (3,4,500,'R','A'),(3,3,475,'R','B'),\n",
      "                             (3,8,520,'L','A'),(3,11,250,'L','B'),\\\n",
      "                             (3,9,430,'L','A'),]\n",
      "# cool saccades for stim 0 and 3!! possible blindness? "
     ],
     "language": "python",
     "metadata": {},
     "outputs": [],
     "prompt_number": 15
    },
    {
     "cell_type": "code",
     "collapsed": false,
     "input": [
      "saccades_dict['04_16_0000']=[(2,10,540,'R','A')]\n"
     ],
     "language": "python",
     "metadata": {},
     "outputs": [],
     "prompt_number": 16
    },
    {
     "cell_type": "code",
     "collapsed": false,
     "input": [
      "saccades_dict['04_10_0000']=[(0,10,475,'R','B'),(1,9,400,'L','B'),\n",
      "                             (3,19,445,'L','A'),(0,12,385,'L','B')]"
     ],
     "language": "python",
     "metadata": {},
     "outputs": [],
     "prompt_number": 17
    },
    {
     "cell_type": "code",
     "collapsed": false,
     "input": [
      "saccades_dict['04_22_0012']=[(1,5,335,'L','A'),(0,9,460,'L','B'),\n",
      "                             (1,12,185,'L','A'),(3,3,475,'R','A')]"
     ],
     "language": "python",
     "metadata": {},
     "outputs": [],
     "prompt_number": 18
    },
    {
     "cell_type": "code",
     "collapsed": false,
     "input": [
      "saccades_dict['04_22_0011']=[(0,17,100,'L','B'),(3,19,345,'R','A')]"
     ],
     "language": "python",
     "metadata": {},
     "outputs": [],
     "prompt_number": 19
    },
    {
     "cell_type": "code",
     "collapsed": false,
     "input": [
      "saccades_dict['04_22_0010']=[(0,6,100,'L','B'),(0,7,100,'L','C'),\n",
      "                             (0,13,240,'R','B'),(1,2,450,'L','B'),\n",
      "                             (2,15,330,'L','B'),(2,24,425,'R','A'),\n",
      "                             (1,20,400,'L','A'),(2,20,190,'L','A'),\n",
      "                             (1,21,500,'L','A'),(3,22,415,'L','A'),\n",
      "                             (0,32,380,'L','A'),(0,34,350,'L','A'),\n",
      "                             (2,36,500,'L','A'),(3,38,360,'L','A'),\n",
      "                             (1,33,50,'L','B')\n",
      "                             ]"
     ],
     "language": "python",
     "metadata": {},
     "outputs": [],
     "prompt_number": 20
    },
    {
     "cell_type": "code",
     "collapsed": false,
     "input": [
      "saccades_dict['04_22_0009']=[(2,11,585,'L','B'),(3,14,445,'L','B')]"
     ],
     "language": "python",
     "metadata": {},
     "outputs": [],
     "prompt_number": 21
    },
    {
     "cell_type": "code",
     "collapsed": false,
     "input": [
      "saccades_dict['04_22_0008']=[(1,2,200,'R','B'),(3,2,200,'L','B'),\n",
      "                             (1,3,130,'L','B'),(0,17,100,'L','A'),\n",
      "                             (1,19,140,'L','A'),(3,10,280,'R','A'),\n",
      "                             (2,30,440,'R','A')]"
     ],
     "language": "python",
     "metadata": {},
     "outputs": [],
     "prompt_number": 22
    },
    {
     "cell_type": "code",
     "collapsed": false,
     "input": [
      "saccades_dict['04_22_0005']=[(0,6,110,'R','A'),(2,2,160,'R','A'),\n",
      "                             (3,3,230,'L','A'),(0,16,535,'R','A'),\n",
      "                             (3,16,160,'L','B'),]"
     ],
     "language": "python",
     "metadata": {},
     "outputs": [],
     "prompt_number": 23
    },
    {
     "cell_type": "code",
     "collapsed": false,
     "input": [
      "saccades_dict['04_10_0004']=[(3,4,415,'L','A'),] # possibly more saccades\n",
      "# suppression, or at least a smaller saccade? very exciting!!"
     ],
     "language": "python",
     "metadata": {},
     "outputs": [],
     "prompt_number": 24
    },
    {
     "cell_type": "code",
     "collapsed": false,
     "input": [
      "saccades_dict['04_10_0003']=[(0,1,450,'R','B'),(0,4,250,'R','A')] \n",
      "## also looks like suppression!!! very exciting!!"
     ],
     "language": "python",
     "metadata": {},
     "outputs": [],
     "prompt_number": 25
    },
    {
     "cell_type": "code",
     "collapsed": false,
     "input": [
      "saccades_dict['03_30_0000']=[(0,24,300,'R','A'),\n",
      "                             (1,21,400,'L','C'),(1,30,300,'R','A'),\n",
      "                             (2,21,400,'L','B'),(2,32,300,'R','A'),\n",
      "                             (3,4,400,'L','A'),(3,6,425,'L','B'),\n",
      "                             (3,8,200,'R','A'),(3,12,100,'R','A')] "
     ],
     "language": "python",
     "metadata": {},
     "outputs": [],
     "prompt_number": 26
    },
    {
     "cell_type": "code",
     "collapsed": false,
     "input": [
      "saccades_dict['03_30_0001']=[(0,43,325,'R','A'),(1,42,460,'L','A'),\n",
      "                             (2,41,200,'L','A'),(3,2,300,'R','A'),] #good. note the extra trials"
     ],
     "language": "python",
     "metadata": {},
     "outputs": [],
     "prompt_number": 27
    },
    {
     "cell_type": "code",
     "collapsed": false,
     "input": [
      "saccades_dict['04_01_0001']=[(0,9,325,'R','A'),(0,25,550,'L','A'),\n",
      "                             (1,9,175,'L','A'),(1,11,150,'R','A'),\n",
      "                             (1,24,535,'L','A'),(2,10,500,'R','A'),\n",
      "                             ] \n",
      "#no false -s, but missing some?\n",
      "#0,25 is nice!!"
     ],
     "language": "python",
     "metadata": {},
     "outputs": [],
     "prompt_number": 28
    },
    {
     "cell_type": "code",
     "collapsed": false,
     "input": [
      "saccades_dict['04_01_0002']=[(0,23,550,'L','A'),(1,1,410,'L','A'),\n",
      "                             (1,10,500,'R','A'),(2,0,380,'R','A'),\n",
      "                             (2,27,360,'L','A'),\n",
      "                             (3,5,300,'L','A'),(3,10,450,'L','A'),\n",
      "                             (3,29,480,'R','A')] "
     ],
     "language": "python",
     "metadata": {},
     "outputs": [],
     "prompt_number": 29
    },
    {
     "cell_type": "code",
     "collapsed": false,
     "input": [
      "saccades_dict['04_10_0002']=[(0,9,325,'R','A'),(0,16,235,'L','A'),\n",
      "                             (0,5,300,'L','B'),(0,22,290,'L','B'),\n",
      "                             (0,26,170,'R','B'),(1,42,510,'R','A'),\n",
      "                             (1,30,190,'L','B'),(1,23,525,'L','A'),\n",
      "                             (2,17,170,'L','A'),(2,16,250,'L','B'),\n",
      "                             (2,19,460,'L','A'),(2,25,170,'L'),\n",
      "                             (3,31,530,'R','A'),(3,24,250,'L','A'),\n",
      "                             (3,22,335,'R','A'),\n",
      "                             (0,15,416,'L','A'),(0,21,170,'L','A'),\n",
      "                             (0,25,300,'L','A'),(1,34,475,'L','A'),\n",
      "                             (1,30,180,'L','A'),(1,24,300,'R','A'),\n",
      "                             (1,21,230,'R','A'),(1,6,500,'L','A'),\n",
      "                             (1,8,220,'L','A'),(1,9,250,'L','A'),\n",
      "                             (1,12,330,'R','A'),(2,12,170,'L'),\n",
      "                             (1,18,340,'L','A'),(2,28,315,'L'),\n",
      "                             (2,33,320,'L','A'),\n",
      "                             (3,42,315,'L','A'),(3,32,120,'L','A'),\n",
      "                             (3,20,540,'L','A')] \n",
      "# there are a lot more saccades I need to consider, especially for cnd 2\n",
      "# shift the saccade start times here -- now considering the returning\n",
      "# phases"
     ],
     "language": "python",
     "metadata": {},
     "outputs": [],
     "prompt_number": 30
    },
    {
     "cell_type": "code",
     "collapsed": false,
     "input": [
      "# saccades from flies collected on or before May 6, 2015\n",
      "# are saved. now loop through next flies, recording saccades"
     ],
     "language": "python",
     "metadata": {},
     "outputs": [],
     "prompt_number": 31
    },
    {
     "cell_type": "code",
     "collapsed": false,
     "input": [
      "saccadic_suppression_flies = pd.read_pickle('saccadic_suppression_flies.save')"
     ],
     "language": "python",
     "metadata": {},
     "outputs": [],
     "prompt_number": 32
    },
    {
     "cell_type": "code",
     "collapsed": false,
     "input": [
      "saccadic_suppression_flies.tail(30)"
     ],
     "language": "python",
     "metadata": {},
     "outputs": [
      {
       "html": [
        "<div style=\"max-height:1000px;max-width:1500px;overflow:auto;\">\n",
        "<table border=\"1\" class=\"dataframe\">\n",
        "  <thead>\n",
        "    <tr style=\"text-align: right;\">\n",
        "      <th></th>\n",
        "      <th>filename</th>\n",
        "      <th>genotype</th>\n",
        "      <th>two s static spot</th>\n",
        "      <th>strokelitude</th>\n",
        "    </tr>\n",
        "  </thead>\n",
        "  <tbody>\n",
        "    <tr>\n",
        "      <th>70</th>\n",
        "      <td> 2015_05_05_0004</td>\n",
        "      <td> c290 x 2xegfp, NP background</td>\n",
        "      <td> False</td>\n",
        "      <td> False</td>\n",
        "    </tr>\n",
        "    <tr>\n",
        "      <th>71</th>\n",
        "      <td> 2015_05_05_0005</td>\n",
        "      <td> c290 x 2xegfp, NP background</td>\n",
        "      <td> False</td>\n",
        "      <td> False</td>\n",
        "    </tr>\n",
        "    <tr>\n",
        "      <th>72</th>\n",
        "      <td> 2015_05_05_0006</td>\n",
        "      <td> c290 x 2xegfp, NP background</td>\n",
        "      <td> False</td>\n",
        "      <td> False</td>\n",
        "    </tr>\n",
        "    <tr>\n",
        "      <th>73</th>\n",
        "      <td> 2015_05_06_0006</td>\n",
        "      <td> c290 x 2xegfp, NP background</td>\n",
        "      <td> False</td>\n",
        "      <td> False</td>\n",
        "    </tr>\n",
        "    <tr>\n",
        "      <th>74</th>\n",
        "      <td> 2015_05_06_0007</td>\n",
        "      <td> c290 x 2xegfp, NP background</td>\n",
        "      <td> False</td>\n",
        "      <td> False</td>\n",
        "    </tr>\n",
        "    <tr>\n",
        "      <th>75</th>\n",
        "      <td> 2015_05_06_0008</td>\n",
        "      <td> c290 x 2xegfp, NP background</td>\n",
        "      <td> False</td>\n",
        "      <td> False</td>\n",
        "    </tr>\n",
        "    <tr>\n",
        "      <th>76</th>\n",
        "      <td> 2015_05_08_0000</td>\n",
        "      <td> c290 x 2xegfp, NP background</td>\n",
        "      <td> False</td>\n",
        "      <td> False</td>\n",
        "    </tr>\n",
        "    <tr>\n",
        "      <th>77</th>\n",
        "      <td> 2015_05_08_0001</td>\n",
        "      <td> c290 x 2xegfp, NP background</td>\n",
        "      <td> False</td>\n",
        "      <td> False</td>\n",
        "    </tr>\n",
        "    <tr>\n",
        "      <th>78</th>\n",
        "      <td> 2015_05_08_0002</td>\n",
        "      <td> c290 x 2xegfp, NP background</td>\n",
        "      <td> False</td>\n",
        "      <td> False</td>\n",
        "    </tr>\n",
        "    <tr>\n",
        "      <th>79</th>\n",
        "      <td> 2015_05_08_0003</td>\n",
        "      <td> c290 x 2xegfp, NP background</td>\n",
        "      <td> False</td>\n",
        "      <td> False</td>\n",
        "    </tr>\n",
        "    <tr>\n",
        "      <th>80</th>\n",
        "      <td> 2015_05_08_0004</td>\n",
        "      <td> c290 x 2xegfp, NP background</td>\n",
        "      <td> False</td>\n",
        "      <td> False</td>\n",
        "    </tr>\n",
        "    <tr>\n",
        "      <th>81</th>\n",
        "      <td> 2015_05_08_0005</td>\n",
        "      <td> c290 x 2xegfp, NP background</td>\n",
        "      <td> False</td>\n",
        "      <td> False</td>\n",
        "    </tr>\n",
        "    <tr>\n",
        "      <th>82</th>\n",
        "      <td> 2015_05_08_0006</td>\n",
        "      <td> c290 x 2xegfp, NP background</td>\n",
        "      <td> False</td>\n",
        "      <td> False</td>\n",
        "    </tr>\n",
        "    <tr>\n",
        "      <th>83</th>\n",
        "      <td> 2015_05_08_0007</td>\n",
        "      <td> c290 x 2xegfp, NP background</td>\n",
        "      <td> False</td>\n",
        "      <td> False</td>\n",
        "    </tr>\n",
        "    <tr>\n",
        "      <th>84</th>\n",
        "      <td> 2015_05_08_0008</td>\n",
        "      <td> c290 x 2xegfp, NP background</td>\n",
        "      <td> False</td>\n",
        "      <td> False</td>\n",
        "    </tr>\n",
        "    <tr>\n",
        "      <th>85</th>\n",
        "      <td> 2015_05_08_0009</td>\n",
        "      <td> c290 x 2xegfp, NP background</td>\n",
        "      <td> False</td>\n",
        "      <td> False</td>\n",
        "    </tr>\n",
        "    <tr>\n",
        "      <th>86</th>\n",
        "      <td> 2015_05_08_0010</td>\n",
        "      <td> c290 x 2xegfp, NP background</td>\n",
        "      <td> False</td>\n",
        "      <td> False</td>\n",
        "    </tr>\n",
        "    <tr>\n",
        "      <th>87</th>\n",
        "      <td> 2015_05_08_0011</td>\n",
        "      <td> c290 x 2xegfp, NP background</td>\n",
        "      <td> False</td>\n",
        "      <td> False</td>\n",
        "    </tr>\n",
        "    <tr>\n",
        "      <th>88</th>\n",
        "      <td> 2015_05_11_0002</td>\n",
        "      <td> c290 x 2xegfp, NP background</td>\n",
        "      <td> False</td>\n",
        "      <td> False</td>\n",
        "    </tr>\n",
        "    <tr>\n",
        "      <th>89</th>\n",
        "      <td> 2015_05_11_0003</td>\n",
        "      <td> c290 x 2xegfp, NP background</td>\n",
        "      <td> False</td>\n",
        "      <td> False</td>\n",
        "    </tr>\n",
        "    <tr>\n",
        "      <th>90</th>\n",
        "      <td> 2015_05_11_0004</td>\n",
        "      <td> c290 x 2xegfp, NP background</td>\n",
        "      <td> False</td>\n",
        "      <td> False</td>\n",
        "    </tr>\n",
        "    <tr>\n",
        "      <th>91</th>\n",
        "      <td> 2015_05_11_0005</td>\n",
        "      <td> c290 x 2xegfp, NP background</td>\n",
        "      <td> False</td>\n",
        "      <td> False</td>\n",
        "    </tr>\n",
        "    <tr>\n",
        "      <th>92</th>\n",
        "      <td> 2015_05_11_0006</td>\n",
        "      <td> c290 x 2xegfp, NP background</td>\n",
        "      <td> False</td>\n",
        "      <td> False</td>\n",
        "    </tr>\n",
        "    <tr>\n",
        "      <th>93</th>\n",
        "      <td> 2015_05_11_0007</td>\n",
        "      <td> c290 x 2xegfp, NP background</td>\n",
        "      <td> False</td>\n",
        "      <td> False</td>\n",
        "    </tr>\n",
        "    <tr>\n",
        "      <th>94</th>\n",
        "      <td> 2015_05_11_0008</td>\n",
        "      <td> c290 x 2xegfp, NP background</td>\n",
        "      <td> False</td>\n",
        "      <td> False</td>\n",
        "    </tr>\n",
        "    <tr>\n",
        "      <th>95</th>\n",
        "      <td> 2015_05_12_0014</td>\n",
        "      <td> c290 x 2xegfp, NP background</td>\n",
        "      <td> False</td>\n",
        "      <td> False</td>\n",
        "    </tr>\n",
        "    <tr>\n",
        "      <th>96</th>\n",
        "      <td> 2015_05_12_0015</td>\n",
        "      <td> c290 x 2xegfp, NP background</td>\n",
        "      <td> False</td>\n",
        "      <td> False</td>\n",
        "    </tr>\n",
        "    <tr>\n",
        "      <th>97</th>\n",
        "      <td> 2015_05_12_0016</td>\n",
        "      <td> c290 x 2xegfp, NP background</td>\n",
        "      <td> False</td>\n",
        "      <td> False</td>\n",
        "    </tr>\n",
        "    <tr>\n",
        "      <th>98</th>\n",
        "      <td> 2015_05_12_0017</td>\n",
        "      <td> c290 x 2xegfp, NP background</td>\n",
        "      <td> False</td>\n",
        "      <td> False</td>\n",
        "    </tr>\n",
        "    <tr>\n",
        "      <th>99</th>\n",
        "      <td> 2015_05_12_0018</td>\n",
        "      <td> c290 x 2xegfp, NP background</td>\n",
        "      <td> False</td>\n",
        "      <td> False</td>\n",
        "    </tr>\n",
        "  </tbody>\n",
        "</table>\n",
        "</div>"
       ],
       "metadata": {},
       "output_type": "pyout",
       "prompt_number": 33,
       "text": [
        "           filename                      genotype two s static spot  \\\n",
        "70  2015_05_05_0004  c290 x 2xegfp, NP background             False   \n",
        "71  2015_05_05_0005  c290 x 2xegfp, NP background             False   \n",
        "72  2015_05_05_0006  c290 x 2xegfp, NP background             False   \n",
        "73  2015_05_06_0006  c290 x 2xegfp, NP background             False   \n",
        "74  2015_05_06_0007  c290 x 2xegfp, NP background             False   \n",
        "75  2015_05_06_0008  c290 x 2xegfp, NP background             False   \n",
        "76  2015_05_08_0000  c290 x 2xegfp, NP background             False   \n",
        "77  2015_05_08_0001  c290 x 2xegfp, NP background             False   \n",
        "78  2015_05_08_0002  c290 x 2xegfp, NP background             False   \n",
        "79  2015_05_08_0003  c290 x 2xegfp, NP background             False   \n",
        "80  2015_05_08_0004  c290 x 2xegfp, NP background             False   \n",
        "81  2015_05_08_0005  c290 x 2xegfp, NP background             False   \n",
        "82  2015_05_08_0006  c290 x 2xegfp, NP background             False   \n",
        "83  2015_05_08_0007  c290 x 2xegfp, NP background             False   \n",
        "84  2015_05_08_0008  c290 x 2xegfp, NP background             False   \n",
        "85  2015_05_08_0009  c290 x 2xegfp, NP background             False   \n",
        "86  2015_05_08_0010  c290 x 2xegfp, NP background             False   \n",
        "87  2015_05_08_0011  c290 x 2xegfp, NP background             False   \n",
        "88  2015_05_11_0002  c290 x 2xegfp, NP background             False   \n",
        "89  2015_05_11_0003  c290 x 2xegfp, NP background             False   \n",
        "90  2015_05_11_0004  c290 x 2xegfp, NP background             False   \n",
        "91  2015_05_11_0005  c290 x 2xegfp, NP background             False   \n",
        "92  2015_05_11_0006  c290 x 2xegfp, NP background             False   \n",
        "93  2015_05_11_0007  c290 x 2xegfp, NP background             False   \n",
        "94  2015_05_11_0008  c290 x 2xegfp, NP background             False   \n",
        "95  2015_05_12_0014  c290 x 2xegfp, NP background             False   \n",
        "96  2015_05_12_0015  c290 x 2xegfp, NP background             False   \n",
        "97  2015_05_12_0016  c290 x 2xegfp, NP background             False   \n",
        "98  2015_05_12_0017  c290 x 2xegfp, NP background             False   \n",
        "99  2015_05_12_0018  c290 x 2xegfp, NP background             False   \n",
        "\n",
        "   strokelitude  \n",
        "70        False  \n",
        "71        False  \n",
        "72        False  \n",
        "73        False  \n",
        "74        False  \n",
        "75        False  \n",
        "76        False  \n",
        "77        False  \n",
        "78        False  \n",
        "79        False  \n",
        "80        False  \n",
        "81        False  \n",
        "82        False  \n",
        "83        False  \n",
        "84        False  \n",
        "85        False  \n",
        "86        False  \n",
        "87        False  \n",
        "88        False  \n",
        "89        False  \n",
        "90        False  \n",
        "91        False  \n",
        "92        False  \n",
        "93        False  \n",
        "94        False  \n",
        "95        False  \n",
        "96        False  \n",
        "97        False  \n",
        "98        False  \n",
        "99        False  "
       ]
      }
     ],
     "prompt_number": 33
    },
    {
     "cell_type": "code",
     "collapsed": false,
     "input": [
      "saccades_dict['05_08_0001']=[(0,4,40,'L','A'),(1,2,165,'L','A'),\n",
      "                             (3,16,260,'L','B'),(0,15,280,'R','A'),\n",
      "                             (3,2,400,'L','B'),(1,16,415,'L','A')]"
     ],
     "language": "python",
     "metadata": {},
     "outputs": [],
     "prompt_number": 35
    },
    {
     "cell_type": "code",
     "collapsed": false,
     "input": [
      "saccades_dict['05_08_0003']=[(1,7,255,'R','A'),(2,14,250,'R','A')]"
     ],
     "language": "python",
     "metadata": {},
     "outputs": [],
     "prompt_number": 36
    },
    {
     "cell_type": "code",
     "collapsed": false,
     "input": [
      "saccades_dict['05_08_0004']=[(0,4,460,'R','B'),(3,17,430,'R','B'),\n",
      "                             (2,15,200,'L','B'),(0,12,400,'R','B'),\n",
      "                             (1,11,280,'L','B'),(1,11,410,'L','A'),\n",
      "                             (1,1,420,'L','A')] \n",
      "# possibly more saccades here.  or slow drift?"
     ],
     "language": "python",
     "metadata": {},
     "outputs": [],
     "prompt_number": 37
    },
    {
     "cell_type": "code",
     "collapsed": false,
     "input": [
      "saccades_dict['05_08_0005']=[(1,1,70,'L','A'),(3,2,120,'L','A'),\n",
      "                             (0,11,175,'L','A'),(2,13,475,'L','A'),\n",
      "                             (2,22,200,'R','B'),(0,28,220,'L','A'),\n",
      "                             (0,32,240,'L','A')]"
     ],
     "language": "python",
     "metadata": {},
     "outputs": [],
     "prompt_number": 48
    },
    {
     "cell_type": "code",
     "collapsed": false,
     "input": [
      "saccades_dict['05_08_0006']=[(2,9,580,'L','B')]"
     ],
     "language": "python",
     "metadata": {},
     "outputs": [],
     "prompt_number": 54
    },
    {
     "cell_type": "code",
     "collapsed": false,
     "input": [
      "saccades_dict['05_08_0008']=[(1,13,215,'L','B'),(2,10,130,'L','B'),\n",
      "                             (1,19,375,'L','B')]"
     ],
     "language": "python",
     "metadata": {},
     "outputs": [],
     "prompt_number": 64
    },
    {
     "cell_type": "code",
     "collapsed": false,
     "input": [
      "saccades_dict['05_08_0009']=[(0,13,500,'L','A'),(0,8,440,'L','A'),\n",
      "                             (1,7,325,'R','A'),(2,15,185,'R','A'),\n",
      "                             (1,15,250,'R','A'),(3,9,185,'R','A'),\n",
      "                             (3,13,415,'R','A'),(3,14, 250,'L','A'),\n",
      "                             (3,15,315,'L','A'),(3,18,300,'R','A'),\n",
      "                             (0,17,175,'L','A'),(0,18,220,'L','A')]"
     ],
     "language": "python",
     "metadata": {},
     "outputs": [],
     "prompt_number": 71
    },
    {
     "cell_type": "code",
     "collapsed": false,
     "input": [
      "saccades_dict['05_08_0011']=[(0,2,340,'L','A'),(0,5,530,'R','A'),\n",
      "                             (1,3,550,'R','A'),(1,5,240,'L','A'),\n",
      "                             (2,2,330,'L','A'), \n",
      "                             (1,7,460,'R','A'),(1,12,560,'R','A'),\n",
      "                             (2,10,440,'L','A'),(2,11,100,'R','A'),\n",
      "                             (3,14,145,'L','A'),(0,16,520,'L','A'),\n",
      "                             (1,19,560,'R','A'),(2,17,215,'L','A')]\n",
      "# (3,5,150,'L','A') excluded since previous trial is nonflight. \n",
      "# now keeping nonflight trials -- my saccade detection was all done\n",
      "# with nonflight trials, so I can't simply delete them from \n",
      "# the trial structure."
     ],
     "language": "python",
     "metadata": {},
     "outputs": [],
     "prompt_number": 82
    },
    {
     "cell_type": "code",
     "collapsed": false,
     "input": [
      "saccades_dict['05_11_0003']=[(1,7,290,'R','A'),(2,16,560,'L','A'),\n",
      "                             (3,18,260,'R','A')]"
     ],
     "language": "python",
     "metadata": {},
     "outputs": [],
     "prompt_number": 95
    },
    {
     "cell_type": "code",
     "collapsed": false,
     "input": [
      "saccades_dict['05_11_0004']=[(3,1,350,'R','A'),(3,9,400,'L','A'),\n",
      "                             (0,23,180,'R','A'),(0,28,285,'R','A'),\n",
      "                             (1,23,210,'L','B')]"
     ],
     "language": "python",
     "metadata": {},
     "outputs": [],
     "prompt_number": 105
    },
    {
     "cell_type": "code",
     "collapsed": false,
     "input": [
      "saccades_dict['05_11_0005']=[(0,0,350,'L','B'),(0,1,380,'L','B'),\n",
      "                             (1,3,150,'L','B'),(1,7,250,'L','A'),\n",
      "                             (3,2,65,'L','A'),(3,4,125,'R','A'),\n",
      "                             (2,5,600,'L','A'),(0,11,260,'L','A'),\n",
      "                             (2,8,385,'L','A'),(3,8,300,'L','A'),\n",
      "                             (0,14,230,'L','A'),(0,19,400,'L','A'),\n",
      "                             (1,19,400,'L','B'),(2,19,440,'R','B'),\n",
      "                             (2,21,79,'R','B'),(3,28,80,'L','B'),\n",
      "                             (1,23,465,'R','A')]"
     ],
     "language": "python",
     "metadata": {},
     "outputs": [],
     "prompt_number": 114
    },
    {
     "cell_type": "code",
     "collapsed": false,
     "input": [
      "saccades_dict['05_11_0007']=[(0,4,415,'R','A'),(2,2,315,'R','A'),\n",
      "                             (0,3,235,'R','A'),(1,4,415,'R','A'),\n",
      "                             (1,9,160,'R','A'),(3,12,430,'R','A'),\n",
      "                             (3,13,170,'L','A'),(3,14,200,'L','A'),\n",
      "                             (0,19,285,'R','A'),(3,17,400,'R','A')]\n"
     ],
     "language": "python",
     "metadata": {},
     "outputs": [],
     "prompt_number": 129
    },
    {
     "cell_type": "code",
     "collapsed": false,
     "input": [
      "saccades_dict['05_12_0015']=[(3,5,255,'L','B'),(3,9,230,'R','B'),\n",
      "                             (1,12,410,'L','A'),(2,16,200,'L','A')]"
     ],
     "language": "python",
     "metadata": {},
     "outputs": [],
     "prompt_number": 142
    },
    {
     "cell_type": "code",
     "collapsed": false,
     "input": [
      "saccades_dict['05_12_0016']=[(1,2,280,'R','A')]"
     ],
     "language": "python",
     "metadata": {},
     "outputs": [],
     "prompt_number": 145
    },
    {
     "cell_type": "code",
     "collapsed": false,
     "input": [
      "saccades_dict['05_12_0018']=[(1,18,200,'L','B'),(3,19,375,'L','A'),\n",
      "                             (2,8,460,'R','B'),(1,7,290,'L','B')]"
     ],
     "language": "python",
     "metadata": {},
     "outputs": [],
     "prompt_number": 152
    },
    {
     "cell_type": "code",
     "collapsed": false,
     "input": [
      "# skipping for saccade detection\n",
      "# 2015_05_08_0000 -- too oscillatory, small saccades\n",
      "# 2015_05_08_0002 -- undersampled.\n",
      "# 2015_05_08_0007 -- undersampled.\n",
      "# 2015_05_08_0010 -- poor spot responses\n",
      "# 2015_05_11_0006 -- weak spot responses\n",
      "# 2015_05_11_0008 -- fly was off centered or had a tilted head? \n",
      "# 2015_05_12_0014 -- possibly some small saccades\n",
      "# 2015_05_12_0017 - few saccades"
     ],
     "language": "python",
     "metadata": {},
     "outputs": [],
     "prompt_number": 148
    },
    {
     "cell_type": "code",
     "collapsed": false,
     "input": [
      "# cells to delete -- 2015_05_11_0002 "
     ],
     "language": "python",
     "metadata": {},
     "outputs": [],
     "prompt_number": 112
    },
    {
     "cell_type": "code",
     "collapsed": false,
     "input": [
      "# plot all single flies with nice saccades\n",
      "for f_name in saccadic_suppression_flies['filename'][-1:]:\n",
      "    print f_name\n",
      "    fly = Spot_Saccadic_Supression(path_name + f_name)\n",
      "    fly.process_fly()\n",
      "    title = f_name\n",
      "    \n",
      "    fly.plot_wba_by_cnd_y_offset(title_txt=title,if_save=False)\n",
      "    fly.plot_wba_by_cnd(title_txt=title,if_save=False)"
     ],
     "language": "python",
     "metadata": {},
     "outputs": [
      {
       "output_type": "stream",
       "stream": "stdout",
       "text": [
        "2015_05_12_0018\n"
       ]
      }
     ],
     "prompt_number": 150
    },
    {
     "cell_type": "code",
     "collapsed": false,
     "input": [
      "fly.plot_wba_by_cnd_y_offset(title_txt=title,if_save=False,\n",
      "                             trs_to_mark = saccades_dict[f_name[5:]])"
     ],
     "language": "python",
     "metadata": {},
     "outputs": [],
     "prompt_number": 153
    },
    {
     "cell_type": "code",
     "collapsed": false,
     "input": [
      "plt.close('all')"
     ],
     "language": "python",
     "metadata": {},
     "outputs": [],
     "prompt_number": 154
    },
    {
     "cell_type": "code",
     "collapsed": false,
     "input": [
      "# save my saccade dictionary\n",
      "import pickle\n",
      "with open('saccades_dict.save','wb') as handle:\n",
      "    pickle.dump(saccades_dict,handle)"
     ],
     "language": "python",
     "metadata": {},
     "outputs": [],
     "prompt_number": 155
    },
    {
     "cell_type": "code",
     "collapsed": false,
     "input": [
      "# for reloading\n",
      "# with open('saccades_dict.save','rb') as handle:\n",
      "#    saccades_dict = pickle.load(handle)"
     ],
     "language": "python",
     "metadata": {},
     "outputs": [],
     "prompt_number": 156
    },
    {
     "cell_type": "code",
     "collapsed": false,
     "input": [],
     "language": "python",
     "metadata": {},
     "outputs": []
    }
   ],
   "metadata": {}
  }
 ]
}