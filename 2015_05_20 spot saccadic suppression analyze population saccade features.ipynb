{
 "metadata": {
  "name": "",
  "signature": "sha256:199a663e07eea063eb58f0b2718602b561c64f2e1efc43dfee1e3cc2f22353f5"
 },
 "nbformat": 3,
 "nbformat_minor": 0,
 "worksheets": [
  {
   "cells": [
    {
     "cell_type": "code",
     "collapsed": false,
     "input": [
      "'''\n",
      "Look at the population influence of body saccades\n",
      "on the fly's spot behaviors. \n",
      "\n",
      "analyze this as a function of time of spontaneous saccade\n",
      "start relative spot presentation x stimulus type \n",
      "'''"
     ],
     "language": "python",
     "metadata": {},
     "outputs": [],
     "prompt_number": 1
    },
    {
     "cell_type": "code",
     "collapsed": false,
     "input": [
      "'''\n",
      "Known problems \n",
      "-- currently the trials before and after saccades may \n",
      "   also contain saccades -> add some branching statements\n",
      "-- I'm not excluding non-flight periods, although I \n",
      "   didn't annotate saccades that occur around them. \n",
      "   -> this should be fine\n",
      "-- I'm not doing anything with my saccade grade\n",
      "   this should be ok since even my low-grade saccades are decent\n",
      "   but this is a good place to extend\n",
      "-- I have extra functions from previous experiments. \n",
      "   update or remove these\n",
      "'''"
     ],
     "language": "python",
     "metadata": {},
     "outputs": [],
     "prompt_number": 2
    },
    {
     "cell_type": "code",
     "collapsed": false,
     "input": [
      "'''\n",
      "Plot the spot saccade amplitude x\n",
      "time between the spontaneous saccade and spot movement\n",
      "\n",
      "As there is variability in whether the fly turns\n",
      "in responses to the spot, I need to compare this to\n",
      "the saccades for the previous and/or following trial of\n",
      "the same time \n",
      "\n",
      "for saccade amplitude estimation -- \n",
      "take the min/max within a turn window,\n",
      "and subtract the baseline response -- how to account for\n",
      "uncommon turn types? -- find the index of the absolute greatest \n",
      "change from the baseline, then take this signed value\n",
      "-- this works for both directions\n",
      "future things to analyze -- saccade latency, saccade/no saccade\n",
      "\n",
      "later run a version of Anmo's\n",
      "saccade detection algorithm to get saccade metrics\n",
      "\n",
      "I can also try binning multiple saccades over time points\n",
      "'''"
     ],
     "language": "python",
     "metadata": {},
     "outputs": [],
     "prompt_number": 2
    },
    {
     "cell_type": "code",
     "collapsed": false,
     "input": [
      "%matplotlib qt\n",
      "from IPython.display import display"
     ],
     "language": "python",
     "metadata": {},
     "outputs": [],
     "prompt_number": 1
    },
    {
     "cell_type": "code",
     "collapsed": false,
     "input": [
      "%load_ext autoreload\n",
      "%autoreload 2\n",
      "from spot_saccadic_supression import *"
     ],
     "language": "python",
     "metadata": {},
     "outputs": [],
     "prompt_number": 2
    },
    {
     "cell_type": "code",
     "collapsed": false,
     "input": [
      "path_name = '/Users/jamie/Dropbox/maimon lab - behavioral data/'"
     ],
     "language": "python",
     "metadata": {},
     "outputs": [],
     "prompt_number": 3
    },
    {
     "cell_type": "code",
     "collapsed": false,
     "input": [
      "# # load my saccades dictionary\n",
      "# import pickle\n",
      "# with open('saccades_dict.save','rb') as handle:\n",
      "#    saccades_dict = pickle.load(handle)"
     ],
     "language": "python",
     "metadata": {},
     "outputs": [],
     "prompt_number": 4
    },
    {
     "cell_type": "code",
     "collapsed": false,
     "input": [
      "## get the traces of all trials with saccades and the trials\n",
      "## of the same stimulus condition before and after them\n",
      "# saccade_info, saccade_and_control_traces = get_saccade_and_control_traces(saccades_dict)"
     ],
     "language": "python",
     "metadata": {},
     "outputs": [],
     "prompt_number": 5
    },
    {
     "cell_type": "code",
     "collapsed": false,
     "input": [
      "# # save my saccade info and traces\n",
      "# with open('saccade_info.save','wb') as handle:\n",
      "#     pickle.dump(saccade_info,handle)\n",
      "    \n",
      "# with open('saccade_and_control_traces.save','wb') as handle:\n",
      "#     pickle.dump(saccade_and_control_traces,handle)"
     ],
     "language": "python",
     "metadata": {},
     "outputs": [],
     "prompt_number": 9
    },
    {
     "cell_type": "code",
     "collapsed": false,
     "input": [
      "# load my saccade info and traces\n",
      "import pickle\n",
      "with open('saccade_info.save','rb') as handle:\n",
      "    saccade_info = pickle.load(handle)\n",
      "    \n",
      "with open('saccade_and_control_traces.save','rb') as handle:\n",
      "    saccade_and_control_traces = pickle.load(handle)"
     ],
     "language": "python",
     "metadata": {},
     "outputs": [],
     "prompt_number": 9
    },
    {
     "cell_type": "code",
     "collapsed": false,
     "input": [
      "saccade_info.ix[:,0:4]"
     ],
     "language": "python",
     "metadata": {},
     "outputs": [
      {
       "html": [
        "<div style=\"max-height:1000px;max-width:1500px;overflow:auto;\">\n",
        "<table border=\"1\" class=\"dataframe\">\n",
        "  <thead>\n",
        "    <tr style=\"text-align: right;\">\n",
        "      <th></th>\n",
        "      <th>0</th>\n",
        "      <th>1</th>\n",
        "      <th>2</th>\n",
        "      <th>3</th>\n",
        "      <th>4</th>\n",
        "    </tr>\n",
        "  </thead>\n",
        "  <tbody>\n",
        "    <tr>\n",
        "      <th>fly</th>\n",
        "      <td> 05_06_0006</td>\n",
        "      <td> 05_06_0006</td>\n",
        "      <td> 05_06_0006</td>\n",
        "      <td> 05_06_0006</td>\n",
        "      <td> 05_06_0006</td>\n",
        "    </tr>\n",
        "    <tr>\n",
        "      <th>cnd</th>\n",
        "      <td>          2</td>\n",
        "      <td>          2</td>\n",
        "      <td>          0</td>\n",
        "      <td>          2</td>\n",
        "      <td>          3</td>\n",
        "    </tr>\n",
        "    <tr>\n",
        "      <th>block</th>\n",
        "      <td>          5</td>\n",
        "      <td>         29</td>\n",
        "      <td>         12</td>\n",
        "      <td>         13</td>\n",
        "      <td>         17</td>\n",
        "    </tr>\n",
        "    <tr>\n",
        "      <th>start_t</th>\n",
        "      <td>        330</td>\n",
        "      <td>        380</td>\n",
        "      <td>         25</td>\n",
        "      <td>        260</td>\n",
        "      <td>        290</td>\n",
        "    </tr>\n",
        "    <tr>\n",
        "      <th>dir</th>\n",
        "      <td>          L</td>\n",
        "      <td>          L</td>\n",
        "      <td>          R</td>\n",
        "      <td>          R</td>\n",
        "      <td>          L</td>\n",
        "    </tr>\n",
        "  </tbody>\n",
        "</table>\n",
        "</div>"
       ],
       "metadata": {},
       "output_type": "pyout",
       "prompt_number": 10,
       "text": [
        "                  0           1           2           3           4\n",
        "fly      05_06_0006  05_06_0006  05_06_0006  05_06_0006  05_06_0006\n",
        "cnd               2           2           0           2           3\n",
        "block             5          29          12          13          17\n",
        "start_t         330         380          25         260         290\n",
        "dir               L           L           R           R           L"
       ]
      }
     ],
     "prompt_number": 10
    },
    {
     "cell_type": "code",
     "collapsed": false,
     "input": [
      "saccade_and_control_traces.ix[0:3,0:1]"
     ],
     "language": "python",
     "metadata": {},
     "outputs": [
      {
       "html": [
        "<div style=\"max-height:1000px;max-width:1500px;overflow:auto;\">\n",
        "<table border=\"1\" class=\"dataframe\">\n",
        "  <thead>\n",
        "    <tr>\n",
        "      <th>saccade_id</th>\n",
        "      <th colspan=\"4\" halign=\"left\">0</th>\n",
        "      <th colspan=\"4\" halign=\"left\">1</th>\n",
        "    </tr>\n",
        "    <tr>\n",
        "      <th>trace</th>\n",
        "      <th>post</th>\n",
        "      <th>prev</th>\n",
        "      <th>sacc</th>\n",
        "      <th>stim</th>\n",
        "      <th>post</th>\n",
        "      <th>prev</th>\n",
        "      <th>sacc</th>\n",
        "      <th>stim</th>\n",
        "    </tr>\n",
        "  </thead>\n",
        "  <tbody>\n",
        "    <tr>\n",
        "      <th>0</th>\n",
        "      <td> 0.001275</td>\n",
        "      <td> 0.015913</td>\n",
        "      <td> 0.138187</td>\n",
        "      <td> 0.132751</td>\n",
        "      <td>-0.097412</td>\n",
        "      <td>-0.097412</td>\n",
        "      <td> 0.010227</td>\n",
        "      <td> 0.132751</td>\n",
        "    </tr>\n",
        "    <tr>\n",
        "      <th>1</th>\n",
        "      <td> 0.001732</td>\n",
        "      <td> 0.017209</td>\n",
        "      <td> 0.126421</td>\n",
        "      <td> 0.132446</td>\n",
        "      <td>-0.092005</td>\n",
        "      <td>-0.092005</td>\n",
        "      <td> 0.012918</td>\n",
        "      <td> 0.131836</td>\n",
        "    </tr>\n",
        "    <tr>\n",
        "      <th>2</th>\n",
        "      <td> 0.002211</td>\n",
        "      <td> 0.018414</td>\n",
        "      <td> 0.114746</td>\n",
        "      <td> 0.132751</td>\n",
        "      <td>-0.086828</td>\n",
        "      <td>-0.086828</td>\n",
        "      <td> 0.015636</td>\n",
        "      <td> 0.131836</td>\n",
        "    </tr>\n",
        "    <tr>\n",
        "      <th>3</th>\n",
        "      <td> 0.002715</td>\n",
        "      <td> 0.019497</td>\n",
        "      <td> 0.103405</td>\n",
        "      <td> 0.133057</td>\n",
        "      <td>-0.082046</td>\n",
        "      <td>-0.082046</td>\n",
        "      <td> 0.018321</td>\n",
        "      <td> 0.131531</td>\n",
        "    </tr>\n",
        "  </tbody>\n",
        "</table>\n",
        "</div>"
       ],
       "metadata": {},
       "output_type": "pyout",
       "prompt_number": 11,
       "text": [
        "saccade_id         0                                       1            \\\n",
        "trace           post      prev      sacc      stim      post      prev   \n",
        "0           0.001275  0.015913  0.138187  0.132751 -0.097412 -0.097412   \n",
        "1           0.001732  0.017209  0.126421  0.132446 -0.092005 -0.092005   \n",
        "2           0.002211  0.018414  0.114746  0.132751 -0.086828 -0.086828   \n",
        "3           0.002715  0.019497  0.103405  0.133057 -0.082046 -0.082046   \n",
        "\n",
        "saccade_id                      \n",
        "trace           sacc      stim  \n",
        "0           0.010227  0.132751  \n",
        "1           0.012918  0.131836  \n",
        "2           0.015636  0.131836  \n",
        "3           0.018321  0.131531  "
       ]
      }
     ],
     "prompt_number": 11
    },
    {
     "cell_type": "code",
     "collapsed": false,
     "input": [
      "fig = plt.figure()\n",
      "display(saccade_and_control_traces.ix[:,(0,'sacc')].plot())"
     ],
     "language": "python",
     "metadata": {},
     "outputs": [
      {
       "metadata": {},
       "output_type": "display_data",
       "text": [
        "<matplotlib.axes._subplots.AxesSubplot at 0x1103b6410>"
       ]
      }
     ],
     "prompt_number": 12
    },
    {
     "cell_type": "code",
     "collapsed": false,
     "input": [
      "#display(plt.gcf())"
     ],
     "language": "python",
     "metadata": {},
     "outputs": [],
     "prompt_number": 53
    },
    {
     "cell_type": "code",
     "collapsed": false,
     "input": [
      "# stimlus starts moving at ~580 ms"
     ],
     "language": "python",
     "metadata": {},
     "outputs": [],
     "prompt_number": 27
    },
    {
     "cell_type": "code",
     "collapsed": false,
     "input": [
      "# developing plot_spot_saccade_versus_spont_saccade_time\n",
      "# inputs:\n",
      "# -- saccade_info: pandas dataframe,\n",
      "#    rows = fly, cnd, block, saccade start_t, dir; \n",
      "#    columns = saccade id\n",
      "# -- saccade_and_control_traces: \n",
      "#    rows = time (in sample points)\n",
      "#    columns = multilevel -- saccade id \n",
      "#       then trace: trial post saccade, trial previous saccade,\n",
      "#       saccade trial, stimulus frame numbers\n",
      "#\n",
      "# now plot the saccade time v. \n",
      "# mean response in a saccade window - mean in window just before\n",
      "# separately for left and right  spots"
     ],
     "language": "python",
     "metadata": {},
     "outputs": [],
     "prompt_number": 28
    },
    {
     "cell_type": "code",
     "collapsed": false,
     "input": [
      "saccade_baseline_window = range(585,620)\n",
      "saccade_window = range(700,725) \n",
      "# narrow window in which the position is usually at this peak or\n",
      "# trough"
     ],
     "language": "python",
     "metadata": {},
     "outputs": [],
     "prompt_number": 29
    },
    {
     "cell_type": "code",
     "collapsed": false,
     "input": [
      "# for each spot position\n",
      "    # get all saccades \n",
      "    # get indicies of sorted saccade times\n",
      "        # for each saccade\n",
      "            # plot a point at (spont saccade time, mean lmr in saccade window)\n",
      "            # next plot previous and post traces, connect with v lines"
     ],
     "language": "python",
     "metadata": {},
     "outputs": [],
     "prompt_number": 30
    },
    {
     "cell_type": "code",
     "collapsed": false,
     "input": [
      "cnd0_saccade = np.where(saccade_info.ix['cnd',:] == 0)[0]\n",
      "cnd1_saccade = np.where(saccade_info.ix['cnd',:] == 1)[0]\n",
      "cnd2_saccade = np.where(saccade_info.ix['cnd',:] == 2)[0]\n",
      "cnd3_saccade = np.where(saccade_info.ix['cnd',:] == 3)[0]"
     ],
     "language": "python",
     "metadata": {},
     "outputs": [],
     "prompt_number": 31
    },
    {
     "cell_type": "code",
     "collapsed": false,
     "input": [
      "right_spot_saccades = np.hstack([cnd0_saccade,cnd1_saccade])\n",
      "left_spot_saccades = np.hstack([cnd2_saccade,cnd3_saccade])"
     ],
     "language": "python",
     "metadata": {},
     "outputs": [],
     "prompt_number": 32
    },
    {
     "cell_type": "code",
     "collapsed": false,
     "input": [
      "right_spot_saccades"
     ],
     "language": "python",
     "metadata": {},
     "outputs": [
      {
       "metadata": {},
       "output_type": "pyout",
       "prompt_number": 33,
       "text": [
        "array([  2,   5,   8,  10,  27,  33,  36,  42,  51,  55,  56,  65,  66,\n",
        "        72,  75,  76,  77,  80,  85,  88,  93, 101, 102, 107, 108, 117,\n",
        "       121, 124, 126, 127, 128, 136, 137, 141, 150, 151, 153, 161, 162,\n",
        "       170, 171, 172, 173, 174, 175, 195, 197, 203, 205, 206, 212, 215,\n",
        "       216, 223, 224, 226, 227, 228, 236, 240, 243, 244, 245, 246, 247,\n",
        "       248, 249, 250, 261, 262, 263,  11,  12,  17,  21,  23,  24,  26,\n",
        "        28,  38,  41,  43,  44,  52,  57,  59,  67,  69,  70,  81,  82,\n",
        "        83,  86,  90,  91,  94,  95, 103, 104, 105, 109, 110, 112, 113,\n",
        "       118, 120, 122, 129, 132, 134, 140, 142, 143, 154, 155, 156, 160,\n",
        "       163, 164, 165, 166, 176, 177, 178, 179, 180, 192, 198, 199, 207,\n",
        "       208, 217, 220, 225, 238, 241, 251, 252, 253, 264, 265, 266, 267,\n",
        "       268, 269, 270, 271, 273])"
       ]
      }
     ],
     "prompt_number": 33
    },
    {
     "cell_type": "code",
     "collapsed": false,
     "input": [
      "sorted_is = saccade_info.ix['start_t',right_spot_saccades].argsort().values"
     ],
     "language": "python",
     "metadata": {},
     "outputs": [],
     "prompt_number": 34
    },
    {
     "cell_type": "code",
     "collapsed": false,
     "input": [
      "saccade_i = 2\n",
      "saccade_and_control_traces.ix[saccade_window,(saccade_i,'sacc')].mean()"
     ],
     "language": "python",
     "metadata": {},
     "outputs": [
      {
       "metadata": {},
       "output_type": "pyout",
       "prompt_number": 35,
       "text": [
        "-0.39237454638775143"
       ]
      }
     ],
     "prompt_number": 35
    },
    {
     "cell_type": "code",
     "collapsed": false,
     "input": [
      "saccade_info.ix['start_t',saccade_i]"
     ],
     "language": "python",
     "metadata": {},
     "outputs": [
      {
       "metadata": {},
       "output_type": "pyout",
       "prompt_number": 36,
       "text": [
        "25"
       ]
      }
     ],
     "prompt_number": 36
    },
    {
     "cell_type": "code",
     "collapsed": false,
     "input": [
      "plt.close('all')"
     ],
     "language": "python",
     "metadata": {},
     "outputs": [],
     "prompt_number": 42
    },
    {
     "cell_type": "code",
     "collapsed": false,
     "input": [
      "fig = plt.figure()\n",
      "for saccade_i in left_spot_saccades:\n",
      "    spont_saccade_t = saccade_info.ix['start_t',saccade_i]\n",
      "    \n",
      "    saccade_extreme = saccade_and_control_traces.ix[saccade_window,\\\n",
      "                                                 (saccade_i,'sacc')].max()\n",
      "    saccade_baseline = saccade_and_control_traces.\\\n",
      "            ix[saccade_baseline_window,(saccade_i,'sacc')].mean()\n",
      "    \n",
      "    plt.plot(spont_saccade_t-580, saccade_extreme,\\\n",
      "             '.',color=magenta)\n",
      "    \n",
      " \n",
      "    pre_extreme = saccade_and_control_traces.ix[saccade_window,\\\n",
      "                                             (saccade_i,'prev')].max()\n",
      "    \n",
      "    pre_baseline = saccade_and_control_traces.\\\n",
      "            ix[saccade_baseline_window,(saccade_i,'prev')].mean()\n",
      "    plt.plot(spont_saccade_t-580, pre_extreme,\\\n",
      "             '.',color=blue)\n",
      "    \n",
      "    plt.xlabel('Time from spot movement start (ms)')\n",
      "    plt.ylabel('L-R WBA (V)')"
     ],
     "language": "python",
     "metadata": {},
     "outputs": [],
     "prompt_number": 44
    },
    {
     "cell_type": "code",
     "collapsed": false,
     "input": [
      "fig = plt.figure()\n",
      "plt.axhline(color=grey)\n",
      "\n",
      "# look at the max/min point in a window around the typical spot-saccade\n",
      "# as a function of time. \n",
      "# consider the difference between the saccades tr and other traces\n",
      "\n",
      "for saccade_i in left_spot_saccades:\n",
      "    spont_saccade_t = saccade_info.ix['start_t',saccade_i]\n",
      "    \n",
      "    saccade_extreme = saccade_and_control_traces.ix[saccade_window,\\\n",
      "                                                 (saccade_i,'sacc')].max()\n",
      "    saccade_baseline = saccade_and_control_traces.\\\n",
      "            ix[saccade_baseline_window,(saccade_i,'sacc')].mean()\n",
      "    \n",
      " \n",
      "    pre_extreme = saccade_and_control_traces.ix[saccade_window,\\\n",
      "                                             (saccade_i,'prev')].max()\n",
      "    pre_baseline = saccade_and_control_traces.\\\n",
      "            ix[saccade_baseline_window,(saccade_i,'prev')].mean()\n",
      "    \n",
      "    post_extreme = saccade_and_control_traces.ix[saccade_window,\\\n",
      "                                             (saccade_i,'post')].max()\n",
      "    post_baseline = saccade_and_control_traces.\\\n",
      "            ix[saccade_baseline_window,(saccade_i,'post')].mean()\n",
      "    \n",
      "        \n",
      "#     plt.plot(spont_saccade_t-580, pre_extreme-saccade_extreme,\\\n",
      "#              '.',color=magenta)\n",
      "\n",
      "#     plt.plot(spont_saccade_t-580, pre_extreme-post_extreme,\\\n",
      "#              '.',color=black)\n",
      "    \n",
      "    # also try baseline subtraction here\n",
      "    plt.plot(spont_saccade_t-580, (pre_extreme-pre_baseline)-\\\n",
      "             (saccade_extreme-saccade_baseline),\\\n",
      "             '.',color=magenta)\n",
      "    \n",
      "    plt.plot(spont_saccade_t-580, (pre_extreme-pre_baseline)-\\\n",
      "             (post_extreme-post_baseline),\\\n",
      "             '.',color=black)\n",
      "    \n",
      "    \n",
      "    plt.xlabel('Time from spot movement start (ms)')\n",
      "    plt.ylabel('L-R WBA (V)')"
     ],
     "language": "python",
     "metadata": {},
     "outputs": [],
     "prompt_number": 50
    },
    {
     "cell_type": "code",
     "collapsed": false,
     "input": [
      "# now just store a copy of the time and saccade values\n",
      "n_saccades = len(left_spot_saccades)\n",
      "all_spont_sacc_ts = np.empty(n_saccades)\n",
      "pre_minus_sacc_max = np.empty(n_saccades)\n",
      "pre_minus_post_max = np.empty(n_saccades)\n",
      "\n",
      "for saccade_i,i in zip(left_spot_saccades,range(n_saccades)):\n",
      "    spont_saccade_t = saccade_info.ix['start_t',saccade_i]\n",
      "    \n",
      "    \n",
      "    saccade_extreme = saccade_and_control_traces.ix[saccade_window,\\\n",
      "                                                 (saccade_i,'sacc')].max()\n",
      "    saccade_baseline = saccade_and_control_traces.\\\n",
      "            ix[saccade_baseline_window,(saccade_i,'sacc')].mean()\n",
      "    \n",
      " \n",
      "    pre_extreme = saccade_and_control_traces.ix[saccade_window,\\\n",
      "                                             (saccade_i,'prev')].max()\n",
      "    pre_baseline = saccade_and_control_traces.\\\n",
      "            ix[saccade_baseline_window,(saccade_i,'prev')].mean()\n",
      "    \n",
      "    \n",
      "    post_extreme = saccade_and_control_traces.ix[saccade_window,\\\n",
      "                                             (saccade_i,'post')].max()\n",
      "    post_baseline = saccade_and_control_traces.\\\n",
      "            ix[saccade_baseline_window,(saccade_i,'post')].mean()\n",
      "    \n",
      "    # now store the values\n",
      "    all_spont_sacc_ts[i] = spont_saccade_t - 580\n",
      "    pre_minus_sacc_max[i] =(pre_extreme-pre_baseline)-\\\n",
      "            (saccade_extreme-saccade_baseline)\n",
      "    pre_minus_post_max[i] =(pre_extreme-pre_baseline)-\\\n",
      "            (post_extreme-post_baseline)\n",
      "\n",
      "\n"
     ],
     "language": "python",
     "metadata": {},
     "outputs": [],
     "prompt_number": 65
    },
    {
     "cell_type": "code",
     "collapsed": false,
     "input": [
      "from numpy.random import randn\n",
      "data = randn(75)\n",
      "from scipy import stats"
     ],
     "language": "python",
     "metadata": {},
     "outputs": [],
     "prompt_number": 57
    },
    {
     "cell_type": "code",
     "collapsed": false,
     "input": [
      "#x = stats.gamma(3).rvs(5000)\n",
      "#y = stats.gamma(5).rvs(5000)\n",
      "with sns.axes_style(\"white\"):\n",
      "    sns.jointplot(all_spont_sacc_ts, pre_minus_post_max-pre_minus_sacc_max, kind=\"kde\");"
     ],
     "language": "python",
     "metadata": {},
     "outputs": [],
     "prompt_number": 75
    },
    {
     "cell_type": "code",
     "collapsed": false,
     "input": [
      "plt.close('all')"
     ],
     "language": "python",
     "metadata": {},
     "outputs": [],
     "prompt_number": 72
    },
    {
     "cell_type": "code",
     "collapsed": false,
     "input": [
      "# now try this for conditions with the spot on the right\n",
      "\n"
     ],
     "language": "python",
     "metadata": {},
     "outputs": []
    },
    {
     "cell_type": "code",
     "collapsed": false,
     "input": [
      "# look up how to plot the histograms for each distribution in seaborne"
     ],
     "language": "python",
     "metadata": {},
     "outputs": []
    },
    {
     "cell_type": "code",
     "collapsed": false,
     "input": [
      "plt.close('all')"
     ],
     "language": "python",
     "metadata": {},
     "outputs": [],
     "prompt_number": 45
    },
    {
     "cell_type": "code",
     "collapsed": false,
     "input": [
      "# look at the difference between the saccade and previous trials\n",
      "\n",
      "fig = plt.figure()\n",
      "plt.axhline(color=blue) \n",
      "for saccade_extremesaccade_i in left_spot_saccades:\n",
      "    spont_saccade_t = saccade_info.ix['start_t',saccade_i]\n",
      "    \n",
      "    saccade_mean = saccade_and_control_traces.ix[saccade_window,\\\n",
      "                                                 (saccade_i,'sacc')].mean()\n",
      "    saccade_baseline = saccade_and_control_traces.\\\n",
      "            ix[saccade_baseline_window,(saccade_i,'sacc')].mean()\n",
      "    \n",
      "    pre_mean = saccade_and_control_traces.ix[saccade_window,\\\n",
      "                                             (saccade_i,'prev')].mean()\n",
      "    pre_baseline = saccade_and_control_traces.\\\n",
      "            ix[saccade_baseline_window,(saccade_i,'prev')].mean()\n",
      "    \n",
      "    post_mean = saccade_and_control_traces.ix[saccade_window,\\\n",
      "                                             (saccade_i,'post')].mean()\n",
      "    post_baseline = saccade_and_control_traces.\\\n",
      "            ix[saccade_baseline_window,(saccade_i,'post')].mean()\n",
      "    \n",
      "        \n",
      "    plt.plot(spont_saccade_t-580,(saccade_mean-saccade_baseline),\\\n",
      "             '.',color=magenta)\n",
      "    \n",
      "    #plt.plot(spont_saccade_t-580,(post_mean-post_baseline),\\\n",
      "    #         '.',color=black)\n",
      "    \n",
      "    \n",
      "    \n",
      "    plt.xlabel('Time from spot movement start (ms)')\n",
      "    plt.ylabel('L-R WBA (V)')\n",
      "    "
     ],
     "language": "python",
     "metadata": {},
     "outputs": [],
     "prompt_number": 156
    },
    {
     "cell_type": "code",
     "collapsed": false,
     "input": [
      "plt.close('all')"
     ],
     "language": "python",
     "metadata": {},
     "outputs": [],
     "prompt_number": 157
    },
    {
     "cell_type": "code",
     "collapsed": false,
     "input": [
      "# none of these figures say much. Ideally I'd have the saccade\n",
      "# amplitude here? -- try taking min within this window, derivative, etc"
     ],
     "language": "python",
     "metadata": {},
     "outputs": [],
     "prompt_number": 158
    },
    {
     "cell_type": "code",
     "collapsed": false,
     "input": [
      "# before talking with Gaby, clean up all of these analyses, \n",
      "# copy genotype figures? -- just keep these in an organized folder for now"
     ],
     "language": "python",
     "metadata": {},
     "outputs": []
    }
   ],
   "metadata": {}
  }
 ]
}