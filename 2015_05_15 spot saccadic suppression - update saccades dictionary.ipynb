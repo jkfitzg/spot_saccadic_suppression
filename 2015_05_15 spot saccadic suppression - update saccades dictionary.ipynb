{
 "metadata": {
  "name": "",
  "signature": "sha256:03ff7fec38392ad13e504f233a9d44e35af8e33a56be607c6adfdc145180c644"
 },
 "nbformat": 3,
 "nbformat_minor": 0,
 "worksheets": [
  {
   "cells": [
    {
     "cell_type": "code",
     "collapsed": false,
     "input": [
      "# first build the saccades dictionary, then use this notebook\n",
      "# to add or remove saccades"
     ],
     "language": "python",
     "metadata": {},
     "outputs": [],
     "prompt_number": 1
    },
    {
     "cell_type": "code",
     "collapsed": false,
     "input": [
      "cd /Users/jamie/GitHub/spot_saccadic_suppression"
     ],
     "language": "python",
     "metadata": {},
     "outputs": [
      {
       "output_type": "stream",
       "stream": "stdout",
       "text": [
        "/Users/jamie/GitHub/spot_saccadic_suppression\n"
       ]
      }
     ],
     "prompt_number": 2
    },
    {
     "cell_type": "code",
     "collapsed": false,
     "input": [
      "%load_ext autoreload\n",
      "%autoreload 2\n",
      "from spot_saccadic_supression import *"
     ],
     "language": "python",
     "metadata": {},
     "outputs": [],
     "prompt_number": 3
    },
    {
     "cell_type": "code",
     "collapsed": false,
     "input": [
      "path_name = '/Users/jamie/Dropbox/maimon lab - behavioral data/'"
     ],
     "language": "python",
     "metadata": {},
     "outputs": [],
     "prompt_number": 4
    },
    {
     "cell_type": "code",
     "collapsed": false,
     "input": [
      "# load saccades dictionary\n",
      "import pickle\n",
      "with open('saccades_dict.save','rb') as handle:\n",
      "    saccades_dict = pickle.load(handle)"
     ],
     "language": "python",
     "metadata": {},
     "outputs": [],
     "prompt_number": 5
    },
    {
     "cell_type": "code",
     "collapsed": false,
     "input": [
      "# I need to overwrite the saccades for 05_11_0005, since I encoded a\n",
      "# saccade for a trial out of bounds\n",
      "saccades_dict['05_11_0005']=[(0,0,350,'L','B'),(0,1,380,'L','B'),\n",
      "                             (1,3,150,'L','B'),(1,7,250,'L','A'),\n",
      "                             (3,2,65,'L','A'),(3,4,125,'R','A'),\n",
      "                             (2,5,600,'L','A'),(0,11,260,'L','A'),\n",
      "                             (2,8,385,'L','A'),(3,8,300,'L','A'),\n",
      "                             (0,14,230,'L','A'),(0,19,400,'L','A'),\n",
      "                             (1,19,400,'L','B'),(2,19,440,'R','B'),\n",
      "                             (2,21,79,'R','B'),(1,23,465,'R','A')]"
     ],
     "language": "python",
     "metadata": {},
     "outputs": [],
     "prompt_number": 6
    },
    {
     "cell_type": "code",
     "collapsed": false,
     "input": [
      "# save my saccade dictionary\n",
      "import pickle\n",
      "with open('saccades_dict.save','wb') as handle:\n",
      "    pickle.dump(saccades_dict,handle)"
     ],
     "language": "python",
     "metadata": {},
     "outputs": [],
     "prompt_number": 7
    }
   ],
   "metadata": {}
  }
 ]
}