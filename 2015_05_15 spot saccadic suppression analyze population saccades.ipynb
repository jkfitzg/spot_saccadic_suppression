{
 "metadata": {
  "name": "",
  "signature": "sha256:6b411a81b197e638afabe01b475360f71e50ae9d46d59a2b5ea85cbec3297847"
 },
 "nbformat": 3,
 "nbformat_minor": 0,
 "worksheets": [
  {
   "cells": [
    {
     "cell_type": "code",
     "collapsed": false,
     "input": [
      "# Look at the population influence of body saccades\n",
      "# on the fly's spot behaviors. \n",
      "#\n",
      "# analyze this as a function of time of spontaneous saccade\n",
      "# start relative spot presentation x stimulus type  "
     ],
     "language": "python",
     "metadata": {},
     "outputs": [],
     "prompt_number": 1
    },
    {
     "cell_type": "code",
     "collapsed": false,
     "input": [
      "# Known problems \n",
      "# -- currently the trials before and after saccades may \n",
      "#    also contain saccades -> add some branching statements\n",
      "# -- I'm not excluding non-flight periods, although I \n",
      "#    didn't annotate saccades that occur around them. \n",
      "#    -> this should be fine\n",
      "# -- I'm not doing anything with my saccade grade\n",
      "#    this should be ok since even my low-grade saccades are decent\n",
      "#    but this is a good place to extend\n",
      "# -- I have extra functions from previous experiments. \n",
      "#    update or remove these"
     ],
     "language": "python",
     "metadata": {},
     "outputs": [],
     "prompt_number": 2
    },
    {
     "cell_type": "code",
     "collapsed": false,
     "input": [
      "%matplotlib qt"
     ],
     "language": "python",
     "metadata": {},
     "outputs": [],
     "prompt_number": 3
    },
    {
     "cell_type": "code",
     "collapsed": false,
     "input": [
      "%load_ext autoreload\n",
      "%autoreload 2\n",
      "from spot_saccadic_supression import *"
     ],
     "language": "python",
     "metadata": {},
     "outputs": [],
     "prompt_number": 4
    },
    {
     "cell_type": "code",
     "collapsed": false,
     "input": [
      "path_name = '/Users/jamie/Dropbox/maimon lab - behavioral data/'"
     ],
     "language": "python",
     "metadata": {},
     "outputs": [],
     "prompt_number": 5
    },
    {
     "cell_type": "code",
     "collapsed": false,
     "input": [
      "# load my saccades dictionary\n",
      "import pickle\n",
      "with open('saccades_dict.save','rb') as handle:\n",
      "   saccades_dict = pickle.load(handle)"
     ],
     "language": "python",
     "metadata": {},
     "outputs": [],
     "prompt_number": 6
    },
    {
     "cell_type": "code",
     "collapsed": false,
     "input": [
      "# get the traces of all trials with saccades and the trials\n",
      "# of the same stimulus condition before and after them\n",
      "saccade_info, saccade_and_control_traces = get_saccade_and_control_traces(saccades_dict)"
     ],
     "language": "python",
     "metadata": {},
     "outputs": [
      {
       "output_type": "stream",
       "stream": "stdout",
       "text": [
        "n saccades = 279\n"
       ]
      }
     ],
     "prompt_number": 8
    },
    {
     "cell_type": "code",
     "collapsed": false,
     "input": [
      "plot_saccade_traces_pre_pos_y_offset(saccade_info, saccade_and_control_traces)"
     ],
     "language": "python",
     "metadata": {},
     "outputs": [],
     "prompt_number": 9
    },
    {
     "cell_type": "code",
     "collapsed": false,
     "input": [
      "plt.close('all')"
     ],
     "language": "python",
     "metadata": {},
     "outputs": [],
     "prompt_number": 10
    },
    {
     "cell_type": "code",
     "collapsed": false,
     "input": [
      "# show saccades in different \n",
      "# intervals before the saccadic turns"
     ],
     "language": "python",
     "metadata": {},
     "outputs": [],
     "prompt_number": 23
    },
    {
     "cell_type": "code",
     "collapsed": false,
     "input": [
      "# add annotation for the pre, saccade, and post traces\n",
      "# for plot by stim, clean up additional axes\n",
      "# clean up, document my code"
     ],
     "language": "python",
     "metadata": {},
     "outputs": [],
     "prompt_number": 24
    },
    {
     "cell_type": "code",
     "collapsed": false,
     "input": [
      "# how long does saccadic supression in the OGINs last? \n",
      "# Ideally I'd have a plot of turn probability/magnitude v. time differences\n",
      "# between spont turn and typical turn time.  -- I can also compare\n",
      "# this to previous trials"
     ],
     "language": "python",
     "metadata": {},
     "outputs": []
    },
    {
     "cell_type": "code",
     "collapsed": false,
     "input": [
      "plot_saccade_traces_pre_pos_y_offset_time_sorted(saccade_info, \n",
      "                                                 saccade_and_control_traces,\n",
      "                                                 -69,-0)"
     ],
     "language": "python",
     "metadata": {},
     "outputs": [],
     "prompt_number": 32
    },
    {
     "cell_type": "code",
     "collapsed": false,
     "input": [
      "plot_saccade_traces_pre_pos_y_offset_time_sorted(saccade_info, \n",
      "                                                 saccade_and_control_traces,\n",
      "                                                 -100,-0)"
     ],
     "language": "python",
     "metadata": {},
     "outputs": [],
     "prompt_number": 33
    },
    {
     "cell_type": "code",
     "collapsed": false,
     "input": [
      "plot_saccade_traces_pre_pos_y_offset_time_sorted(saccade_info, \n",
      "                                                 saccade_and_control_traces,\n",
      "                                                 -250,-150,plot_by_stim=True)"
     ],
     "language": "python",
     "metadata": {},
     "outputs": [],
     "prompt_number": 27
    },
    {
     "cell_type": "code",
     "collapsed": false,
     "input": [
      "# my saccade times for spot on the left front to back are off -- many saccades\n",
      "# are too early. check my saccade traces"
     ],
     "language": "python",
     "metadata": {},
     "outputs": [],
     "prompt_number": 28
    },
    {
     "cell_type": "code",
     "collapsed": false,
     "input": [
      "plt.close('all')"
     ],
     "language": "python",
     "metadata": {},
     "outputs": [],
     "prompt_number": 34
    },
    {
     "cell_type": "code",
     "collapsed": false,
     "input": [
      "# later allow branching by the saccade directions?\n",
      "# for offset saccade figures, sort by saccade start times\n",
      "# add features for the saccade grade"
     ],
     "language": "python",
     "metadata": {},
     "outputs": [],
     "prompt_number": 30
    },
    {
     "cell_type": "code",
     "collapsed": false,
     "input": [
      "for pre_start in range(0,-550,-50):\n",
      "    plot_saccade_traces_pre_pos_y_offset_time_sorted(saccade_info, \n",
      "                                                 saccade_and_control_traces,\n",
      "                                                 pre_start-100,pre_start,plot_by_stim=True)"
     ],
     "language": "python",
     "metadata": {},
     "outputs": [],
     "prompt_number": 36
    },
    {
     "cell_type": "code",
     "collapsed": false,
     "input": [
      "# also change time relative spot movement, not typical turn."
     ],
     "language": "python",
     "metadata": {},
     "outputs": [],
     "prompt_number": 37
    },
    {
     "cell_type": "code",
     "collapsed": false,
     "input": [],
     "language": "python",
     "metadata": {},
     "outputs": []
    }
   ],
   "metadata": {}
  }
 ]
}